{
 "cells": [
  {
   "cell_type": "markdown",
   "metadata": {},
   "source": [
    "Use XMM data below 10 keV and the fully combined northeast region NuSTAR data above 10 keV to model the CHXE as a powerlaw then bremsstrahlung source and find improved constraints on the powerlaw and bremsstrahlung components.\n",
    "\n",
    "Model: constant * tbabs (apec + apec + po/bremss + gaussian)\n",
    "\n",
    "Three scripts are used to do this:\n",
    "    `scripts/loadAll_AB_2012XMM_bkdg2.xcm` loads all of the data\n",
    "    `scripts/model_pub_powerlaw.xcm` sets up the model\n",
    "    `scripts/fit.xcm` fits the model and reports error on the powerlaw index or bremsstrahlung temperature."
   ]
  },
  {
   "cell_type": "code",
   "execution_count": 1,
   "metadata": {
    "collapsed": true
   },
   "outputs": [],
   "source": [
    "import os, config, itertools, re, sys\n",
    "sys.path.append(os.path.join(os.getcwd(), os.pardir, os.pardir))\n",
    "import nutools"
   ]
  },
  {
   "cell_type": "code",
   "execution_count": 11,
   "metadata": {
    "scrolled": true
   },
   "outputs": [],
   "source": [
    "polog = !xspec - scripts/loadAll_AB_2012XMM_bkdg2.xcm scripts/model_pub_powerlaw.xcm scripts/fit.xcm"
   ]
  },
  {
   "cell_type": "code",
   "execution_count": 16,
   "metadata": {},
   "outputs": [
    {
     "name": "stdout",
     "output_type": "stream",
     "text": [
      "\tBuild Date/Time: Fri May  5 16:16:36 2017\n",
      " Reduced chi-squared =         1.0403 for    815 degrees of freedom \n",
      "    11      1.43867      2.02171    (-0.32435,0.258683)\n"
     ]
    }
   ],
   "source": [
    "for line in polog:\n",
    "    if 'Reduced chi-squared' in line:\n",
    "        print line\n",
    "    if len(re.findall(nutools.number, line)) == 5:\n",
    "        print line"
   ]
  },
  {
   "cell_type": "code",
   "execution_count": 13,
   "metadata": {
    "collapsed": true
   },
   "outputs": [],
   "source": [
    "bremsslog = !xspec - scripts/loadAll_AB_2012XMM_bkdg2.xcm scripts/model_pub_bremss.xcm scripts/fit.xcm"
   ]
  },
  {
   "cell_type": "code",
   "execution_count": 17,
   "metadata": {},
   "outputs": [
    {
     "name": "stdout",
     "output_type": "stream",
     "text": [
      "\tBuild Date/Time: Fri May  5 16:16:36 2017\n",
      " Reduced chi-squared =         1.0348 for    815 degrees of freedom \n",
      "    11      33.6581      102.691    (-16.0979,52.9349)\n"
     ]
    }
   ],
   "source": [
    "for line in bremsslog:\n",
    "    if 'Reduced chi-squared' in line:\n",
    "        print line\n",
    "    if len(re.findall(nutools.number, line)) == 5:\n",
    "        print line"
   ]
  }
 ],
 "metadata": {
  "kernelspec": {
   "display_name": "Python 2",
   "language": "python",
   "name": "python2"
  },
  "language_info": {
   "codemirror_mode": {
    "name": "ipython",
    "version": 2
   },
   "file_extension": ".py",
   "mimetype": "text/x-python",
   "name": "python",
   "nbconvert_exporter": "python",
   "pygments_lexer": "ipython2",
   "version": "2.7.12+"
  }
 },
 "nbformat": 4,
 "nbformat_minor": 2
}
