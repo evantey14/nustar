{
 "cells": [
  {
   "cell_type": "markdown",
   "metadata": {},
   "source": [
    "Questions\n",
    "* What should be frozen for fitting?\n",
    "* Should I update variables to match combinedne results?"
   ]
  },
  {
   "cell_type": "code",
   "execution_count": 1,
   "metadata": {
    "collapsed": true
   },
   "outputs": [],
   "source": [
    "import sherpa.astro.ui as shp\n",
    "import itertools"
   ]
  },
  {
   "cell_type": "code",
   "execution_count": 2,
   "metadata": {
    "collapsed": true
   },
   "outputs": [],
   "source": [
    "# configure plotting\n",
    "%matplotlib inline\n",
    "shp.set_ylog('data')"
   ]
  },
  {
   "cell_type": "code",
   "execution_count": 3,
   "metadata": {
    "collapsed": true
   },
   "outputs": [],
   "source": [
    "# configure fitting\n",
    "shp.set_conf_opt('sigma', 1.6448536269514722) # 90% confidence interval\n",
    "shp.set_stat('chi2xspecvar')\n",
    "shp.set_xsabund('wilm')\n",
    "shp.set_xsxsect('vern')"
   ]
  },
  {
   "cell_type": "code",
   "execution_count": 4,
   "metadata": {
    "collapsed": true
   },
   "outputs": [],
   "source": [
    "models = ['po', 'bremss']\n",
    "pars = ['min', 'best', 'max']"
   ]
  },
  {
   "cell_type": "code",
   "execution_count": 5,
   "metadata": {
    "collapsed": true
   },
   "outputs": [],
   "source": [
    "def setup_po(par):\n",
    "    pars = {'min': 1.43867, 'best': 1.76302, 'max': 2.02171}\n",
    "    shp.set_source(shp.xstbabs.absorption*shp.xspowerlaw.chxepo)\n",
    "    shp.set_par(absorption.nH, 16.4) # old value\n",
    "    shp.set_par(chxepo.norm, 1.6e-4) # old value\n",
    "    shp.set_par(chxepo.PhoIndex, pars[par])\n",
    "    shp.freeze(absorption.nH)\n",
    "\n",
    "def setup_bremss(par):\n",
    "    pars = {'min': 33.6581, 'best': 49.756, 'max': 102.691}\n",
    "    shp.set_source(shp.xstbabs.absorption*shp.xsbremss.chxebremss)\n",
    "    shp.set_par(absorption.nH, 16.4) # an old value\n",
    "    shp.set_par(chxebremss.norm, 1.9e-4) # old value\n",
    "    shp.set_par(chxebremss.kT, pars[par], 1e-4, 200)\n",
    "    shp.freeze(absorption.nH)"
   ]
  },
  {
   "cell_type": "code",
   "execution_count": 6,
   "metadata": {
    "scrolled": true
   },
   "outputs": [
    {
     "name": "stdout",
     "output_type": "stream",
     "text": [
      "Simulating po min\n",
      "Dataset               = 1\n",
      "Method                = levmar\n",
      "Statistic             = chi2xspecvar\n",
      "Initial fit statistic = 1823.18\n",
      "Final fit statistic   = 1629.59 at function evaluation 16\n",
      "Data points           = 1724\n",
      "Degrees of freedom    = 1722\n",
      "Probability [Q-value] = 0.944343\n",
      "Reduced statistic     = 0.946336\n",
      "Change in statistic   = 193.59\n",
      "   chxepo.PhoIndex   1.55482     \n",
      "   chxepo.norm    0.000216407 \n",
      "Dataset               = 1\n",
      "Method                = levmar\n",
      "Statistic             = chi2xspecvar\n",
      "Initial fit statistic = 10057.1\n",
      "Final fit statistic   = 1550.42 at function evaluation 13\n",
      "Data points           = 1724\n",
      "Degrees of freedom    = 1722\n",
      "Probability [Q-value] = 0.998717\n",
      "Reduced statistic     = 0.900359\n",
      "Change in statistic   = 8506.72\n",
      "   chxebremss.kT   93.3376     \n",
      "   chxebremss.norm   0.000262288 \n",
      "Simulating po best\n",
      "Dataset               = 1\n",
      "Method                = levmar\n",
      "Statistic             = chi2xspecvar\n",
      "Initial fit statistic = 1507.51\n",
      "Final fit statistic   = 1323.11 at function evaluation 13\n",
      "Data points           = 1724\n",
      "Degrees of freedom    = 1722\n",
      "Probability [Q-value] = 1\n",
      "Reduced statistic     = 0.768354\n",
      "Change in statistic   = 184.409\n",
      "   chxepo.PhoIndex   1.94495     \n",
      "   chxepo.norm    0.000250667 \n",
      "Dataset               = 1\n",
      "Method                = levmar\n",
      "Statistic             = chi2xspecvar\n",
      "Initial fit statistic = 14880.9\n",
      "Final fit statistic   = 1312.19 at function evaluation 13\n",
      "Data points           = 1724\n",
      "Degrees of freedom    = 1722\n",
      "Probability [Q-value] = 1\n",
      "Reduced statistic     = 0.762017\n",
      "Change in statistic   = 13568.7\n",
      "   chxebremss.kT   34.7399     \n",
      "   chxebremss.norm   0.000116945 \n",
      "Simulating po max\n",
      "Dataset               = 1\n",
      "Method                = levmar\n",
      "Statistic             = chi2xspecvar\n",
      "Initial fit statistic = 1150.01\n",
      "Final fit statistic   = 1007.13 at function evaluation 13\n",
      "Data points           = 1724\n",
      "Degrees of freedom    = 1722\n",
      "Probability [Q-value] = 1\n",
      "Reduced statistic     = 0.58486\n",
      "Change in statistic   = 142.885\n",
      "   chxepo.PhoIndex   2.26723     \n",
      "   chxepo.norm    0.000288699 \n",
      "Dataset               = 1\n",
      "Method                = levmar\n",
      "Statistic             = chi2xspecvar\n",
      "Initial fit statistic = 95523\n",
      "Final fit statistic   = 1027.3 at function evaluation 27\n",
      "Data points           = 1724\n",
      "Degrees of freedom    = 1722\n",
      "Probability [Q-value] = 1\n",
      "Reduced statistic     = 0.596572\n",
      "Change in statistic   = 94495.7\n",
      "   chxebremss.kT   20.5487     \n",
      "   chxebremss.norm   7.10201e-05 \n",
      "Simulating bremss min\n",
      "Dataset               = 1\n",
      "Method                = levmar\n",
      "Statistic             = chi2xspecvar\n",
      "Initial fit statistic = 26190.9\n",
      "Final fit statistic   = 1451.02 at function evaluation 29\n",
      "Data points           = 1724\n",
      "Degrees of freedom    = 1722\n",
      "Probability [Q-value] = 0.999999\n",
      "Reduced statistic     = 0.842634\n",
      "Change in statistic   = 24739.9\n",
      "   chxepo.PhoIndex   2.1214      \n",
      "   chxepo.norm    0.000630199 \n",
      "Dataset               = 1\n",
      "Method                = levmar\n",
      "Statistic             = chi2xspecvar\n",
      "Initial fit statistic = 1370.92\n",
      "Final fit statistic   = 1212.42 at function evaluation 13\n",
      "Data points           = 1724\n",
      "Degrees of freedom    = 1722\n",
      "Probability [Q-value] = 1\n",
      "Reduced statistic     = 0.704078\n",
      "Change in statistic   = 158.501\n",
      "   chxebremss.kT   26.6637     \n",
      "   chxebremss.norm   0.000202413 \n",
      "Simulating bremss best\n",
      "Dataset               = 1\n",
      "Method                = levmar\n",
      "Statistic             = chi2xspecvar\n",
      "Initial fit statistic = 7347.92\n",
      "Final fit statistic   = 1574 at function evaluation 16\n",
      "Data points           = 1724\n",
      "Degrees of freedom    = 1722\n",
      "Probability [Q-value] = 0.995153\n",
      "Reduced statistic     = 0.914054\n",
      "Change in statistic   = 5773.92\n",
      "   chxepo.PhoIndex   1.9183      \n",
      "   chxepo.norm    0.000400019 \n",
      "Dataset               = 1\n",
      "Method                = levmar\n",
      "Statistic             = chi2xspecvar\n",
      "Initial fit statistic = 1558.72\n",
      "Final fit statistic   = 1378.44 at function evaluation 13\n",
      "Data points           = 1724\n",
      "Degrees of freedom    = 1722\n",
      "Probability [Q-value] = 1\n",
      "Reduced statistic     = 0.800487\n",
      "Change in statistic   = 180.285\n",
      "   chxebremss.kT   36.9854     \n",
      "   chxebremss.norm   0.000198    \n",
      "Simulating bremss max\n",
      "Dataset               = 1\n",
      "Method                = levmar\n",
      "Statistic             = chi2xspecvar\n",
      "Initial fit statistic = 21565.7\n",
      "Final fit statistic   = 1715.88 at function evaluation 21\n",
      "Data points           = 1724\n",
      "Degrees of freedom    = 1722\n",
      "Probability [Q-value] = 0.53706\n",
      "Reduced statistic     = 0.996447\n",
      "Change in statistic   = 19849.8\n",
      "   chxepo.PhoIndex   1.65241     \n",
      "   chxepo.norm    0.000197462 \n",
      "Dataset               = 1\n",
      "Method                = levmar\n",
      "Statistic             = chi2xspecvar\n",
      "Initial fit statistic = 1769.55\n",
      "Final fit statistic   = 1555.39 at function evaluation 16\n",
      "Data points           = 1724\n",
      "Degrees of freedom    = 1722\n",
      "Probability [Q-value] = 0.998276\n",
      "Reduced statistic     = 0.903246\n",
      "Change in statistic   = 214.156\n",
      "   chxebremss.kT   66.2974     \n",
      "   chxebremss.norm   0.000184918 \n"
     ]
    }
   ],
   "source": [
    "results = []\n",
    "for model, par in list(itertools.product(models, pars)):\n",
    "    result = [model, par]\n",
    "    print('Simulating ' + model + ' ' + par)\n",
    "    setup_po(par) if model is 'po' else setup_bremss(par)\n",
    "    shp.fake_pha(id=1, arf=None, rmf='A_NE.rsp', exposure=5e6) # A_NE.rsp was copied from combinedne just as a sample response file\n",
    "    shp.ignore(':10.0,79.0:')\n",
    "    \n",
    "    setup_po(par)\n",
    "    shp.fit()\n",
    "    pofit = shp.get_fit_results()\n",
    "    result.append(pofit.rstat)\n",
    "    \n",
    "    setup_bremss(par)\n",
    "    shp.fit()\n",
    "    bremssfit = shp.get_fit_results()\n",
    "    result.append(bremssfit.rstat)\n",
    "    \n",
    "    results.append(result)\n",
    "    \n",
    "    #shp.plot('fit', 'delchi')"
   ]
  },
  {
   "cell_type": "code",
   "execution_count": 7,
   "metadata": {},
   "outputs": [
    {
     "name": "stdout",
     "output_type": "stream",
     "text": [
      "po min 0.946336333529 0.900358962346\n",
      "po best 0.768353777303 0.76201744755\n",
      "po max 0.584860059814 0.596572067124\n",
      "bremss min 0.842634392465 0.704078451264\n",
      "bremss best 0.914053713285 0.800486622716\n",
      "bremss max 0.996446504634 0.903245647131\n"
     ]
    }
   ],
   "source": [
    "for result in results:\n",
    "    print ' '.join([str(i) for i in result])"
   ]
  }
 ],
 "metadata": {
  "kernelspec": {
   "display_name": "Python 2",
   "language": "python",
   "name": "python2"
  },
  "language_info": {
   "codemirror_mode": {
    "name": "ipython",
    "version": 2
   },
   "file_extension": ".py",
   "mimetype": "text/x-python",
   "name": "python",
   "nbconvert_exporter": "python",
   "pygments_lexer": "ipython2",
   "version": "2.7.12+"
  }
 },
 "nbformat": 4,
 "nbformat_minor": 2
}
