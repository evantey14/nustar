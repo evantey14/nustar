{
 "cells": [
  {
   "cell_type": "code",
   "execution_count": 1,
   "metadata": {
    "collapsed": true,
    "scrolled": true
   },
   "outputs": [],
   "source": [
    "import os, config, itertools, logging\n",
    "import sherpa.astro.ui as shp"
   ]
  },
  {
   "cell_type": "code",
   "execution_count": 2,
   "metadata": {
    "collapsed": true
   },
   "outputs": [],
   "source": [
    "# set logging level to WARNING (suppress sherpa's normal logging)\n",
    "logging.getLogger('sherpa').setLevel(30)"
   ]
  },
  {
   "cell_type": "code",
   "execution_count": 3,
   "metadata": {
    "collapsed": true
   },
   "outputs": [],
   "source": [
    "# configure plotting\n",
    "%matplotlib inline\n",
    "shp.set_ylog('data')"
   ]
  },
  {
   "cell_type": "code",
   "execution_count": 4,
   "metadata": {
    "collapsed": true
   },
   "outputs": [],
   "source": [
    "# configure fitting\n",
    "shp.set_conf_opt('sigma', 1.645)\n",
    "shp.set_stat('chi2xspecvar')\n",
    "shp.set_xsabund('wilm')\n",
    "shp.set_xsxsect('vern')"
   ]
  },
  {
   "cell_type": "code",
   "execution_count": 5,
   "metadata": {
    "collapsed": true
   },
   "outputs": [],
   "source": [
    "# define data of interest (ie the values you want to iterate over)\n",
    "observations = ['30001002001', '30001002003', '30001002004', '30302006004', '30302006006', '30302007002', '30302007004']\n",
    "regions = ['NE', 'SW']\n",
    "modules = ['A', 'B']"
   ]
  },
  {
   "cell_type": "code",
   "execution_count": 6,
   "metadata": {
    "scrolled": true
   },
   "outputs": [
    {
     "name": "stdout",
     "output_type": "stream",
     "text": [
      "nu30001002001ANE|1.65209074249|-2.2782699784852944|10.387949734277242|2.9456066418411684|-0.4941009863114072|4.273371268254661|0.39490572928533485|-0.0004423421743393707|0.003934010808562394|0.000829929892052759\n",
      "nu30001002001ASW|1.35293933386|-3.602530489914386|12.108639802964813|3.924304508858018|-1.1945129234500875|8.129272835347093|1.5978183444545273|-0.00017124322696148104|0.001478735581791366|0.00019661530783657028\n",
      "nu30001002003ANE|1.54475407315|-2.1702518094790753|6.646949627786739|2.237782115946855|-0.5012948690055685|5.1394625475795515|0.5375877257579269|-0.00034302033636180026|0.0031409872979961937|0.00042641594368254387\n",
      "nu30001002003ASW|1.03588784838|-3.2954794987268343|14.103214659022433|3.5681133141096115|-1.0875951269668205|7.560974536516812|1.3325284078251327|-0.00018424087935567206|0.0016310934066951883|0.00021242792736251063\n",
      "nu30001002003BNE|1.8029486245|-2.707292372255491|11.705607762505116|2.7386671065202925|-0.40080074852742387|3.9923391090621982|0.47537331228998214|-0.0006805437898225347|0.004382905683127115|0.0008084208007948096\n",
      "nu30001002003BSW|1.09572220986|-2.8687684276868133|11.290591306578769|3.0764262525350894|-1.2062335687221948|9.017119147462019|1.7502197182214907|-0.00015322255552115832|0.001531721483725846|0.00016693475947054514\n",
      "nu30001002004ANE|1.04192827317|-3.245911527387995|9.819610819648604|3.637381457675197|-0.5520656352726525|4.11149298676059|0.6106704536843388|-0.0006383532525713678|0.0036494438881073134|0.0009365740989408992\n",
      "nu30001002004ASW|1.06490560164|-5.008677950790608|15.305077953391253|5.578034004955727|-1.1625219832014535|6.602879080935462|1.7262093533733323|-0.0002820134559259819|0.0016454802214712573|0.00034872284875609957\n",
      "nu30302006006ANE|0.980383194379|None|3.522316408604417|4.231418115340408|-0.8828245076265402|4.94323176913267|1.1943702574206174|-0.0006114859847207669|0.003017327498293784|0.000882473686644993\n",
      "nu30302006006ASW|0.966045392543|-4.974175540815957|12.460879264788502|5.84534488704411|-1.256609094200245|5.603042117082234|1.7823641869502227|-0.0004997372603410802|0.0022696964667408316|0.0007907819354701943\n",
      "nu30302006006BNE|0.995697829981|-4.7222603064433395|7.980903334466017|5.222433893956124|-0.8054821606851097|4.391346975853307|1.0901232390612714|-0.0009013557578355512|0.0036473810233384842|0.0013393009695860775\n",
      "nu30302006006BSW|1.10384546771|-5.8552686208008335|13.065886573846845|6.830054171830108|-2.3428504203120744|8.9273382521246|5.86584003695064|-0.000310385585614937|0.0016629467331480796|0.0003703836441674732\n",
      "nu30302007002ANE|1.52631018201|-3.053742986751482|9.261316358942835|3.447560220545741|-0.6150784567781553|4.503847031738063|0.6505526214239765|-0.000605982413048984|0.0038263549145495443|0.0009129571636422402\n",
      "nu30302007002ASW|0.994686443094|-3.6140310166116763|16.28321701909202|3.8971280588373176|-0.8365804987279315|6.320019576211489|1.091937069440493|-0.0003358298334068988|0.0024855521143041276|0.0003774842175190301\n",
      "nu30302007004ANE|1.48342561954|-2.864764352256911|11.120744729345738|2.964359531768414|-0.5327709228358986|4.742037963275214|0.6518028384615926|-0.0005463185872946635|0.0038817081913544308|0.0006515987317212398\n",
      "nu30302007004ASW|0.977801541932|-3.2309307963769047|13.572906493473937|3.4997140716544735|-1.1189056697839401|7.732934251353136|1.383532440288839|-0.00023220674580458431|0.0020320621554672015|0.00024591950784797444\n"
     ]
    }
   ],
   "source": [
    "# run spectral analysis\n",
    "\n",
    "# Note that this code was written in smaller parts, \n",
    "# but has been cleaned up and recombined for ease of understanding.\n",
    "# Your code will look less polished as you are figuring out how to analyze it,\n",
    "# but it's good practice to reorganize your code when the analysis is complete.\n",
    "for observation, module, region in list(itertools.product(observations, modules, regions)):\n",
    "    stem = 'nu' + observation + module + region\n",
    "    \n",
    "    # load data\n",
    "    phafile = config.PRODUCT_PATH + '/' + stem + '_sr_bin.pha'\n",
    "    \n",
    "    if not os.path.isfile(phafile): continue\n",
    "    \n",
    "    shp.load_pha(phafile) # load pha\n",
    "    shp.subtract() # subtract background\n",
    "    shp.ignore(':3.0,10.0:') # ignore  **-3.0 10.0-**\n",
    "    \n",
    "    # set up model\n",
    "    shp.reset() # reset parameter values from past iterations\n",
    "    shp.set_source(shp.xstbabs.absorption*shp.xsapec.plasma) # set model to tbasbs*apec with default values\n",
    "    # (for more info see http://cxc.cfa.harvard.edu/sherpa/ahelp/xstbabs.html \n",
    "    # and http://cxc.cfa.harvard.edu/sherpa/ahelp/xsapec.html)\n",
    "    \n",
    "    # fit \n",
    "    shp.fit() # fit model\n",
    "    fit = shp.get_fit_results()\n",
    "    \n",
    "    shp.conf() # calculate parameter confidence\n",
    "    conf = shp.get_conf_results()\n",
    "    \n",
    "    # plot fit\n",
    "    #shp.plot('fit', 'delchi')\n",
    "    #shp.plot_fit()\n",
    "    \n",
    "    # print output\n",
    "    # relevant values are collected then printed with a delimiter\n",
    "    # data can then be copied and pasted into a spreadsheet for further analysis\n",
    "    # this can also be rewritten to store data in some data structure for further analysis here\n",
    "    output = [stem]\n",
    "    output.append(fit.rstat)\n",
    "    for i in range(len(conf.parvals)):\n",
    "        output.append(conf.parmins[i])\n",
    "        output.append(conf.parvals[i])\n",
    "        output.append(conf.parmaxes[i])\n",
    "    \n",
    "    print('|'.join(str(i) for i in output))"
   ]
  },
  {
   "cell_type": "code",
   "execution_count": null,
   "metadata": {
    "collapsed": true
   },
   "outputs": [],
   "source": [
    "#TODO: Create a results notebook with a summary of the conclusions and major plots/tables from this experiment."
   ]
  }
 ],
 "metadata": {
  "kernelspec": {
   "display_name": "Python 2",
   "language": "python",
   "name": "python2"
  },
  "language_info": {
   "codemirror_mode": {
    "name": "ipython",
    "version": 2
   },
   "file_extension": ".py",
   "mimetype": "text/x-python",
   "name": "python",
   "nbconvert_exporter": "python",
   "pygments_lexer": "ipython2",
   "version": "2.7.12+"
  }
 },
 "nbformat": 4,
 "nbformat_minor": 2
}
