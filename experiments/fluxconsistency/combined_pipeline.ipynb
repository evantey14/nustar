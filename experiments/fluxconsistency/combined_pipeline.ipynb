{
 "cells": [
  {
   "cell_type": "code",
   "execution_count": 1,
   "metadata": {
    "collapsed": true
   },
   "outputs": [],
   "source": [
    "import config, os, sys, itertools\n",
    "sys.path.append(os.path.join(os.getcwd(), os.pardir, os.pardir))\n",
    "import nutools"
   ]
  },
  {
   "cell_type": "code",
   "execution_count": 2,
   "metadata": {
    "collapsed": true
   },
   "outputs": [],
   "source": [
    "years = ['2012', '2017']\n",
    "observations = {'2012': ['30001002001', '30001002003', '30001002004'], \n",
    "                '2017': ['30302006004', '30302006006', '30302007002', '30302007004']}\n",
    "regions = ['NE', 'SW']\n",
    "modules = ['A', 'B']"
   ]
  },
  {
   "cell_type": "code",
   "execution_count": 3,
   "metadata": {},
   "outputs": [
    {
     "name": "stdout",
     "output_type": "stream",
     "text": [
      "Adding spectra: 2012_A_NE nu30001002001ANE_sr.pha|nu30001002003ANE_sr.pha|nu30001002004ANE_sr.pha\n",
      "Adding spectra: 2012_A_SW nu30001002001ASW_sr.pha|nu30001002003ASW_sr.pha|nu30001002004ASW_sr.pha\n",
      "Adding spectra: 2012_B_NE nu30001002001BNE_sr.pha|nu30001002003BNE_sr.pha|nu30001002004BNE_sr.pha\n",
      "Adding spectra: 2012_B_SW nu30001002001BSW_sr.pha|nu30001002003BSW_sr.pha|nu30001002004BSW_sr.pha\n",
      "Adding spectra: 2017_A_NE nu30302006004ANE_sr.pha|nu30302006006ANE_sr.pha|nu30302007002ANE_sr.pha|nu30302007004ANE_sr.pha\n",
      "Adding spectra: 2017_A_SW nu30302006004ASW_sr.pha|nu30302006006ASW_sr.pha|nu30302007002ASW_sr.pha|nu30302007004ASW_sr.pha\n",
      "Adding spectra: 2017_B_NE nu30302006004BNE_sr.pha|nu30302006006BNE_sr.pha|nu30302007002BNE_sr.pha|nu30302007004BNE_sr.pha\n",
      "Adding spectra: 2017_B_SW nu30302006004BSW_sr.pha|nu30302006006BSW_sr.pha|nu30302007002BSW_sr.pha|nu30302007004BSW_sr.pha\n"
     ]
    }
   ],
   "source": [
    "for year, module, region in list(itertools.product(years, modules, regions)):\n",
    "    input_obs = ['nu' + observation + module + region + '_sr.pha' \n",
    "                for observation in observations[year]]\n",
    "    outfile = year + '_' + module + '_' + region\n",
    "    nutools.addspec(config.EXPERIMENT_PATH, config.PRODUCT_PATH, input_obs, outfile)"
   ]
  },
  {
   "cell_type": "code",
   "execution_count": 4,
   "metadata": {},
   "outputs": [
    {
     "name": "stdout",
     "output_type": "stream",
     "text": [
      "grouping products/2017_A_NE.pha\n",
      "binning products/2017_A_NE.pha\n",
      "grouping products/2017_A_SW.pha\n",
      "binning products/2017_A_SW.pha\n",
      "grouping products/2017_B_NE.pha\n",
      "binning products/2017_B_NE.pha\n",
      "grouping products/2017_B_SW.pha\n",
      "binning products/2017_B_SW.pha\n",
      "grouping products/2012_A_NE.pha\n",
      "binning products/2012_A_NE.pha\n",
      "grouping products/2012_A_SW.pha\n",
      "binning products/2012_A_SW.pha\n",
      "grouping products/2012_B_NE.pha\n",
      "binning products/2012_B_NE.pha\n",
      "grouping products/2012_B_SW.pha\n",
      "binning products/2012_B_SW.pha\n"
     ]
    }
   ],
   "source": [
    "for year, module, region in list(itertools.product(observations, modules, regions)):\n",
    "    stem = year + '_' + module + '_' + region\n",
    "    \n",
    "    nutools.group_pha(infile = config.REL_PRODUCT_PATH + '/' + stem + '.pha',\n",
    "                      bgfile = config.REL_PRODUCT_PATH + '/' + stem + '.bak',\n",
    "                      outfile = config.REL_PRODUCT_PATH + '/' + stem + '_group.dat',\n",
    "                      minbincount = '20',\n",
    "                      is_individual = False)\n",
    "    \n",
    "    # needs rel product path because absolute path is too long\n",
    "    nutools.bin_pha(infile = config.REL_PRODUCT_PATH + '/' + stem + '.pha',\n",
    "                    grpfile = config.REL_PRODUCT_PATH + '/' + stem + '_group.dat',\n",
    "                    outfile = config.REL_PRODUCT_PATH + '/' + stem + '_bin.pha')"
   ]
  }
 ],
 "metadata": {
  "kernelspec": {
   "display_name": "Python 2",
   "language": "python",
   "name": "python2"
  },
  "language_info": {
   "codemirror_mode": {
    "name": "ipython",
    "version": 2
   },
   "file_extension": ".py",
   "mimetype": "text/x-python",
   "name": "python",
   "nbconvert_exporter": "python",
   "pygments_lexer": "ipython2",
   "version": "2.7.12+"
  }
 },
 "nbformat": 4,
 "nbformat_minor": 2
}
