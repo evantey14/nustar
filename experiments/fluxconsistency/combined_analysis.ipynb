{
 "cells": [
  {
   "cell_type": "code",
   "execution_count": 38,
   "metadata": {
    "collapsed": true
   },
   "outputs": [],
   "source": [
    "import os, config, itertools, re, sys\n",
    "sys.path.append(os.path.join(os.getcwd(), os.pardir, os.pardir))\n",
    "import nutools"
   ]
  },
  {
   "cell_type": "code",
   "execution_count": 41,
   "metadata": {
    "collapsed": true
   },
   "outputs": [],
   "source": [
    "years = ['2012', '2017']\n",
    "regions = ['NE', 'SW']\n",
    "modules = ['A', 'B']"
   ]
  },
  {
   "cell_type": "code",
   "execution_count": 45,
   "metadata": {
    "collapsed": true
   },
   "outputs": [],
   "source": [
    "# Parse XSPEC output for the values we are interested in.\n",
    "# This is basically hardcoded to return those values.\n",
    "def parseflux(log):\n",
    "    try: \n",
    "        readpars = False\n",
    "        pars = []\n",
    "        redchisq = []\n",
    "        for line in log:\n",
    "            if 'Reduced chi-squared' in line:\n",
    "                redchisq.append(float(re.findall(nutools.number, line)[0]))\n",
    "            if readpars:\n",
    "                par = re.findall(nutools.number, line)\n",
    "                if len(par) == 5:\n",
    "                    if par[0] is '3':\n",
    "                        fluxmin = float(par[1])\n",
    "                        flux = fluxmin - float(par[3])\n",
    "                        fluxmax = float(par[2])\n",
    "                else:\n",
    "                    readpars = False\n",
    "            if 'Parameter' in line:\n",
    "                readpars = True\n",
    "        return [redchisq[0], redchisq[1], fluxmin, flux, fluxmax]\n",
    "    except:\n",
    "        return [None]"
   ]
  },
  {
   "cell_type": "code",
   "execution_count": 54,
   "metadata": {
    "scrolled": true
   },
   "outputs": [
    {
     "name": "stdout",
     "output_type": "stream",
     "text": [
      "2012_A_NE,1.292,1.1868,-11.719,-11.71092536,-11.703\n",
      "2012_A_SW,1.045,0.9603,-11.9756,-11.9641857,-11.9531\n",
      "2012_B_NE,1.12,1.024,-11.7184,-11.7051438,-11.6922\n",
      "2012_B_SW,1.056,0.9608,-11.9459,-11.9283746,-11.9115\n",
      "2017_A_NE,0.9499,0.8705,-11.6857,-11.6756945,-11.6659\n",
      "2017_A_SW,0.9747,0.8943,-11.8587,-11.8466611,-11.8349\n",
      "2017_B_NE,0.8691,0.7308,-11.7235,-11.6969944,-11.672\n",
      "2017_B_SW,1.064,0.8234,-11.9418,-11.9070131,-11.8748\n"
     ]
    }
   ],
   "source": [
    "# conduct native xspec analysis by executing a prewritten \n",
    "# template script and injecting the data to load\n",
    "\n",
    "# xspec template analysis we want to conduct\n",
    "analysis_file = config.EXPERIMENT_PATH + '/scripts/tbabsapecgauspo310.xcm'\n",
    "\n",
    "os.chdir(config.PRODUCT_PATH) # xspec must be executed where the data is\n",
    "\n",
    "for year, module, region in list(itertools.product(years, modules, regions)):\n",
    "    stem = year + '_' + module + '_' + region\n",
    "    infile = stem + '_bin.pha'\n",
    "    if not os.path.isfile(infile): continue\n",
    "        \n",
    "    with open(analysis_file) as analysis:\n",
    "        with open(config.PRODUCT_PATH + '/' + 'tmp.xcm', 'w') as tmp:\n",
    "            for line in analysis:\n",
    "                if 'INFILE' in line: line = line.replace('INFILE', infile)\n",
    "                tmp.write(line)\n",
    "            tmp.write('exit\\n')\n",
    "            tmp.close()\n",
    "        analysis.close()\n",
    "    # execute terminal command `xspec tmp.xcm` (special jupyter syntax) and store output in log\n",
    "    log = !xspec tmp.xcm\n",
    "    print(stem + ',' + ','.join([str(i) for i in parseflux(log)])) # format to be pastable into a spreadsheet for further analysis\n",
    "    \n",
    "os.remove('tmp.xcm')\n",
    "os.chdir(config.EXPERIMENT_PATH)"
   ]
  }
 ],
 "metadata": {
  "kernelspec": {
   "display_name": "Python 2",
   "language": "python",
   "name": "python2"
  },
  "language_info": {
   "codemirror_mode": {
    "name": "ipython",
    "version": 2
   },
   "file_extension": ".py",
   "mimetype": "text/x-python",
   "name": "python",
   "nbconvert_exporter": "python",
   "pygments_lexer": "ipython2",
   "version": "2.7.12+"
  }
 },
 "nbformat": 4,
 "nbformat_minor": 2
}
