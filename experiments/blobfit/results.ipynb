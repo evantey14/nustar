{
 "cells": [
  {
   "cell_type": "markdown",
   "metadata": {},
   "source": [
    "# Purpose\n",
    "The goal of these notebooks is to create a 2D model of the potential figure seen at 40-50 keV near the galactic center. Ultimately, we want to learn more about what this object is and how it interacts with nearby sources."
   ]
  },
  {
   "cell_type": "markdown",
   "metadata": {},
   "source": [
    "# Method\n",
    "Creating 2D models can't be easily simplified to an automated procedure because of the scientific thought process that must go into each fit (e.g. deciding *what* we are trying to fit and *how*). The notebooks and scripts in this folder are tools to assist in the process of creating these fits. Generally I've used them in this order:\n",
    "* Create and save a background model with [background_component_model.ipynb](background_component_model.ipynb)\n",
    "* Create and save simple single-gaussian models with [single_gaussian_component_model.ipynb](single_gaussian_component_model.ipynb).\n",
    "* Considering the residuals, create more sophisticated models (using these created components) in [combined_model.ipynb](combined_model.ipynb) until the residuals are sufficiently accounted for.\n",
    "\n",
    "Jupyter notebooks run sherpa a bit slower than native python, so I've used a couple python scripts to speed up the especially long throughput procedures (e.g. [calculate_confidence.py](calculate_confidency.py))\n",
    "\n",
    "It's extremely important to have a good tracking system for the different components, sessions, and results, that are saved along the way so they don't get confounded. I personally wrote an external log in a google document."
   ]
  },
  {
   "cell_type": "markdown",
   "metadata": {},
   "source": [
    "# Results\n",
    "A summary of results can be found [here](https://docs.google.com/presentation/d/1w9KzNAniRBQNLeXkLtKMFo-5rR0NLeCEoYrtq2kiBa8/edit#slide=id.p). Full results are kept locally in my project directory. "
   ]
  }
 ],
 "metadata": {
  "kernelspec": {
   "display_name": "Python 2",
   "language": "python",
   "name": "python2"
  },
  "language_info": {
   "codemirror_mode": {
    "name": "ipython",
    "version": 2
   },
   "file_extension": ".py",
   "mimetype": "text/x-python",
   "name": "python",
   "nbconvert_exporter": "python",
   "pygments_lexer": "ipython2",
   "version": "2.7.12+"
  }
 },
 "nbformat": 4,
 "nbformat_minor": 2
}
