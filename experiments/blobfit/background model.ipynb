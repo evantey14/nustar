{
 "cells": [
  {
   "cell_type": "code",
   "execution_count": 1,
   "metadata": {
    "scrolled": false
   },
   "outputs": [],
   "source": [
    "import sherpa.astro.ui as shp\n",
    "import utils"
   ]
  },
  {
   "cell_type": "code",
   "execution_count": 2,
   "metadata": {
    "collapsed": true
   },
   "outputs": [],
   "source": [
    "shp.set_stat('cash')\n",
    "shp.set_method('simplex')\n",
    "shp.set_method_opt('verbose', 1)"
   ]
  },
  {
   "cell_type": "code",
   "execution_count": 3,
   "metadata": {
    "collapsed": true
   },
   "outputs": [],
   "source": [
    "utils.setup('numosaic_fin_2012_20-40keV.img')"
   ]
  },
  {
   "cell_type": "code",
   "execution_count": 4,
   "metadata": {},
   "outputs": [
    {
     "name": "stdout",
     "output_type": "stream",
     "text": [
      "(const2d.bg * tablemodel.emap)\n",
      "   Param        Type          Value          Min          Max      Units\n",
      "   -----        ----          -----          ---          ---      -----\n",
      "   bg.c0        thawed        1e-05            0          100           \n",
      "   emap.ampl    frozen            1 -3.40282e+38  3.40282e+38           \n"
     ]
    }
   ],
   "source": [
    "# fit constant background model \n",
    "shp.set_full_model(shp.const2d.bg*emap)\n",
    "shp.set_par(bg.c0, 1e-5, 0, 100)\n",
    "print(shp.get_model())"
   ]
  },
  {
   "cell_type": "code",
   "execution_count": 5,
   "metadata": {
    "scrolled": true
   },
   "outputs": [
    {
     "name": "stdout",
     "output_type": "stream",
     "text": [
      "Dataset               = 1\n",
      "Method                = neldermead\n",
      "Statistic             = cash\n",
      "Initial fit statistic = 33261.2\n",
      "Final fit statistic   = 17245.9 at function evaluation 173\n",
      "Data points           = 9204\n",
      "Degrees of freedom    = 9203\n",
      "Change in statistic   = 16015.3\n",
      "   bg.c0          2.83742e-06 \n",
      "CPU times: user 292 ms, sys: 0 ns, total: 292 ms\n",
      "Wall time: 293 ms\n"
     ]
    }
   ],
   "source": [
    "shp.ignore2d(\"circle(500,500,1000)\") # ignore full image                              \n",
    "shp.notice2d(\"circle(500,500,90)\")\n",
    "shp.ignore2d(\"circle(500,500,72)\")\n",
    "%time shp.fit()"
   ]
  },
  {
   "cell_type": "code",
   "execution_count": 6,
   "metadata": {
    "collapsed": true
   },
   "outputs": [],
   "source": [
    "shp.image_fit()"
   ]
  },
  {
   "cell_type": "code",
   "execution_count": 7,
   "metadata": {
    "scrolled": false
   },
   "outputs": [
    {
     "name": "stdout",
     "output_type": "stream",
     "text": [
      "Saving 20-40 keV/bg 180-225 2012.model\n",
      "(const2d.bg * tablemodel.emap)\n",
      "   Param        Type          Value          Min          Max      Units\n",
      "   -----        ----          -----          ---          ---      -----\n",
      "   bg.c0        thawed  2.83742e-06            0          100           \n",
      "   emap.ampl    frozen            1 -3.40282e+38  3.40282e+38           \n"
     ]
    }
   ],
   "source": [
    "utils.save_components('20-40 keV/bg 180-225 2012.model')"
   ]
  }
 ],
 "metadata": {
  "kernelspec": {
   "display_name": "Python 2",
   "language": "python",
   "name": "python2"
  },
  "language_info": {
   "codemirror_mode": {
    "name": "ipython",
    "version": 2
   },
   "file_extension": ".py",
   "mimetype": "text/x-python",
   "name": "python",
   "nbconvert_exporter": "python",
   "pygments_lexer": "ipython2",
   "version": "2.7.12+"
  }
 },
 "nbformat": 4,
 "nbformat_minor": 2
}
