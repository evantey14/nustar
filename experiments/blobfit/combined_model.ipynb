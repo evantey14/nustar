{
 "cells": [
  {
   "cell_type": "markdown",
   "metadata": {},
   "source": [
    "This notebook is a workspace to model the 2D components of NuSTAR GC mosaics using components generated `background_component_model.ipynb` and `single_gaussian_component_model.ipynb`. Results should be tracked and saved externally along with sherpa sessions."
   ]
  },
  {
   "cell_type": "code",
   "execution_count": 19,
   "metadata": {
    "collapsed": true,
    "scrolled": true
   },
   "outputs": [],
   "source": [
    "import sherpa.astro.ui as shp\n",
    "import utils"
   ]
  },
  {
   "cell_type": "code",
   "execution_count": 20,
   "metadata": {
    "collapsed": true
   },
   "outputs": [],
   "source": [
    "shp.set_stat('cash')\n",
    "shp.set_method('simplex')\n",
    "shp.set_method_opt('verbose', 1)"
   ]
  },
  {
   "cell_type": "code",
   "execution_count": 21,
   "metadata": {
    "collapsed": true
   },
   "outputs": [],
   "source": [
    "utils.setup('numosaic_fin_combined_50-60keV.img')"
   ]
  },
  {
   "cell_type": "code",
   "execution_count": 4,
   "metadata": {
    "collapsed": true
   },
   "outputs": [],
   "source": [
    "shp.ignore2d('circle(500,500,1000)')\n",
    "shp.notice2d('circle(500,500,%f)' % (312.5/2.5))\n",
    "shp.image_data()"
   ]
  },
  {
   "cell_type": "code",
   "execution_count": 22,
   "metadata": {
    "scrolled": false
   },
   "outputs": [
    {
     "name": "stdout",
     "output_type": "stream",
     "text": [
      "Loading 50-60 keV/bg 130-180.model\n",
      "const2d.bg\n",
      "   Param        Type          Value          Min          Max      Units\n",
      "   -----        ----          -----          ---          ---      -----\n",
      "   bg.c0        frozen  6.80685e-07            0          100           \n"
     ]
    }
   ],
   "source": [
    "utils.load_components('50-60 keV/bg 130-180.model')"
   ]
  },
  {
   "cell_type": "code",
   "execution_count": 13,
   "metadata": {
    "scrolled": false
   },
   "outputs": [
    {
     "name": "stdout",
     "output_type": "stream",
     "text": [
      "Loading 20-40 keV/chxe1.model\n",
      "gauss2d.chxe\n",
      "   Param        Type          Value          Min          Max      Units\n",
      "   -----        ----          -----          ---          ---      -----\n",
      "   chxe.fwhm    thawed      53.5051            1          200           \n",
      "   chxe.xpos    thawed      497.962        482.4        512.4           \n",
      "   chxe.ypos    thawed      500.176        484.1        514.1           \n",
      "   chxe.ellip   thawed     0.470146            0        0.999           \n",
      "   chxe.theta   thawed     -1.00406     -6.28319      6.28319    radians\n",
      "   chxe.ampl    thawed  1.30944e-05 -3.40282e+38  3.40282e+38           \n"
     ]
    }
   ],
   "source": [
    "utils.load_components('20-40 keV/chxe1.model')"
   ]
  },
  {
   "cell_type": "code",
   "execution_count": 14,
   "metadata": {
    "scrolled": true
   },
   "outputs": [
    {
     "name": "stdout",
     "output_type": "stream",
     "text": [
      "(psfmodel.psf((((gauss2d.chxe * tablemodel.emap) + (gauss2d.pwn * tablemodel.emap)) + (gauss2d.blob * tablemodel.emap))) + (const2d.bg * tablemodel.emap))\n",
      "   Param        Type          Value          Min          Max      Units\n",
      "   -----        ----          -----          ---          ---      -----\n",
      "   chxe.fwhm    thawed      53.5051            1          200           \n",
      "   chxe.xpos    thawed      497.962        482.4        512.4           \n",
      "   chxe.ypos    thawed      500.176        484.1        514.1           \n",
      "   chxe.ellip   thawed     0.470146            0        0.999           \n",
      "   chxe.theta   thawed     -1.00406     -6.28319      6.28319    radians\n",
      "   chxe.ampl    thawed  1.30944e-05 -3.40282e+38  3.40282e+38           \n",
      "   emap.ampl    frozen            1 -3.40282e+38  3.40282e+38           \n",
      "   pwn.fwhm     frozen            1  1.17549e-38  3.40282e+38           \n",
      "   pwn.xpos     thawed          499          496          502           \n",
      "   pwn.ypos     thawed          502          499          505           \n",
      "   pwn.ellip    frozen            0            0        0.999           \n",
      "   pwn.theta    frozen            0     -6.28319      6.28319    radians\n",
      "   pwn.ampl     thawed        0.003        1e-08            1           \n",
      "   blob.fwhm    thawed            7            1           50           \n",
      "   blob.xpos    thawed          507          492          522           \n",
      "   blob.ypos    thawed          500          485          515           \n",
      "   blob.ellip   thawed          0.9            0        0.999           \n",
      "   blob.theta   thawed        -1.04     -6.28319      6.28319    radians\n",
      "   blob.ampl    thawed       0.0001 -3.40282e+38  3.40282e+38           \n",
      "   bg.c0        frozen  3.08124e-06            0          100           \n"
     ]
    }
   ],
   "source": [
    "# chxe + pwn + blob model\n",
    "# edit this cell with the initialization you'd like to fit\n",
    "# e.g. constrain the position of the PWN, leave blob unconstrained, etc\n",
    "shp.set_full_model(psf(chxe*emap \n",
    "                       + shp.gauss2d.pwn*emap \n",
    "                       + shp.gauss2d.blob*emap\n",
    "                      )\n",
    "                       + bg*emap)\n",
    "\n",
    "shp.thaw(chxe.ellip, chxe.theta)\n",
    "\n",
    "shp.set_par(pwn.xpos, 499, 499-3, 499+3)\n",
    "shp.set_par(pwn.ypos, 502, 502-3, 502+3)\n",
    "shp.set_par(pwn.ampl, 3e-3, 1e-8, 1.0)\n",
    "shp.set_par(pwn.fwhm, 1)\n",
    "shp.freeze(pwn.fwhm)\n",
    "\n",
    "shp.set_par(blob.xpos, 507, 507-15, 507+15)\n",
    "shp.set_par(blob.ypos, 500, 500-15, 500+15)\n",
    "shp.set_par(blob.fwhm, 7, 1, 50)\n",
    "shp.set_par(blob.ellip, .9)\n",
    "shp.set_par(blob.theta, -1.04)\n",
    "shp.set_par(blob.ampl, 1e-4)\n",
    "shp.thaw(blob.ellip, blob.theta)\n",
    "\n",
    "shp.freeze(bg)\n",
    "\n",
    "print(shp.get_model())"
   ]
  },
  {
   "cell_type": "code",
   "execution_count": 15,
   "metadata": {
    "collapsed": true
   },
   "outputs": [],
   "source": [
    "# View your initial model and the region you'd like to fit\n",
    "shp.ignore2d('circle(500,500,1000)')\n",
    "shp.notice2d('circle(500,500,%f)' % (180/2.5))\n",
    "shp.image_fit()"
   ]
  },
  {
   "cell_type": "code",
   "execution_count": 16,
   "metadata": {
    "scrolled": true
   },
   "outputs": [
    {
     "name": "stdout",
     "output_type": "stream",
     "text": [
      "Dataset               = 1\n",
      "Method                = neldermead\n",
      "Statistic             = cash\n",
      "Initial fit statistic = 19923.6\n",
      "Final fit statistic   = 19596.8 at function evaluation 10648\n",
      "Data points           = 16241\n",
      "Degrees of freedom    = 16226\n",
      "Change in statistic   = 326.775\n",
      "   chxe.fwhm      71.5289     \n",
      "   chxe.xpos      495.13      \n",
      "   chxe.ypos      498.858     \n",
      "   chxe.ellip     0.528776    \n",
      "   chxe.theta     -1.10878    \n",
      "   chxe.ampl      6.59891e-06 \n",
      "   pwn.xpos       498.346     \n",
      "   pwn.ypos       500.314     \n",
      "   pwn.ampl       0.00219263  \n",
      "   blob.fwhm      24.8716     \n",
      "   blob.xpos      504.285     \n",
      "   blob.ypos      501.781     \n",
      "   blob.ellip     0.940735    \n",
      "   blob.theta     -0.653833   \n",
      "   blob.ampl      8.02801e-05 \n",
      "CPU times: user 59min 15s, sys: 492 ms, total: 59min 15s\n",
      "Wall time: 59min 15s\n"
     ]
    }
   ],
   "source": [
    "# Fit your model. This can up to 1 hr. Make sure to use the appropriate region for fitting.\n",
    "shp.ignore2d('circle(500,500,1000)')\n",
    "shp.notice2d('circle(500,500,%f)' % (180/2.5))\n",
    "%time shp.fit()"
   ]
  },
  {
   "cell_type": "code",
   "execution_count": 18,
   "metadata": {
    "scrolled": false
   },
   "outputs": [
    {
     "name": "stdout",
     "output_type": "stream",
     "text": [
      "(psfmodel.psf((((gauss2d.chxe * tablemodel.emap) + (gauss2d.pwn * tablemodel.emap)) + (gauss2d.blob * tablemodel.emap))) + (const2d.bg * tablemodel.emap))\n",
      "   Param        Type          Value          Min          Max      Units\n",
      "   -----        ----          -----          ---          ---      -----\n",
      "   chxe.fwhm    thawed      71.5289            1          200           \n",
      "   chxe.xpos    thawed       495.13        482.4        512.4           \n",
      "   chxe.ypos    thawed      498.858        484.1        514.1           \n",
      "   chxe.ellip   thawed     0.528776            0        0.999           \n",
      "   chxe.theta   thawed     -1.10878     -6.28319      6.28319    radians\n",
      "   chxe.ampl    thawed  6.59891e-06 -3.40282e+38  3.40282e+38           \n",
      "   emap.ampl    frozen            1 -3.40282e+38  3.40282e+38           \n",
      "   pwn.fwhm     frozen            1  1.17549e-38  3.40282e+38           \n",
      "   pwn.xpos     thawed      498.346          496          502           \n",
      "   pwn.ypos     thawed      500.314          499          505           \n",
      "   pwn.ellip    frozen            0            0        0.999           \n",
      "   pwn.theta    frozen            0     -6.28319      6.28319    radians\n",
      "   pwn.ampl     thawed   0.00219263        1e-08            1           \n",
      "   blob.fwhm    thawed      24.8716            1           50           \n",
      "   blob.xpos    thawed      504.285          492          522           \n",
      "   blob.ypos    thawed      501.781          485          515           \n",
      "   blob.ellip   thawed     0.940735            0        0.999           \n",
      "   blob.theta   thawed    -0.653833     -6.28319      6.28319    radians\n",
      "   blob.ampl    thawed  8.02801e-05 -3.40282e+38  3.40282e+38           \n",
      "   bg.c0        frozen  3.08124e-06            0          100           \n"
     ]
    }
   ],
   "source": [
    "# View fit results \n",
    "shp.ignore2d('circle(500,500,1000)')\n",
    "shp.notice2d('circle(500,500,%f)' % (312.5/2.5))\n",
    "#shp.ignore2d('circle(500,500,%f)' % (25/2.5))\n",
    "shp.image_fit()\n",
    "print(shp.get_model())"
   ]
  },
  {
   "cell_type": "code",
   "execution_count": 17,
   "metadata": {
    "collapsed": true
   },
   "outputs": [],
   "source": [
    "# Save the sherpa session. This saves _everything_ (data, fit results, components, parameters).\n",
    "# This can be restored in the future to check all of this information.\n",
    "# It's recommended to save the session immediately after fitting and \n",
    "# to externally keep track of the name / fitting situation\n",
    "shp.save('20-40 keV/fits/chxepwnblobunconstrained.sav')"
   ]
  },
  {
   "cell_type": "markdown",
   "metadata": {},
   "source": [
    "Calculate the confidence on some of the fit parameters (e.g. pwn ampl). \n",
    "This can take a *very* long time (O(1 day)), so it's recommended to run this in the background with `calculate_confidence.py`."
   ]
  },
  {
   "cell_type": "code",
   "execution_count": 4,
   "metadata": {
    "scrolled": true
   },
   "outputs": [
    {
     "name": "stdout",
     "output_type": "stream",
     "text": [
      "(psfmodel.psf((((gauss2d.chxe * tablemodel.emap) + (gauss2d.pwn * tablemodel.emap)) + (gauss2d.blob * tablemodel.emap))) + (const2d.bg * tablemodel.emap))\n",
      "   Param        Type          Value          Min          Max      Units\n",
      "   -----        ----          -----          ---          ---      -----\n",
      "   chxe.fwhm    frozen      51.2412           20          200           \n",
      "   chxe.xpos    frozen      499.905      496.905      502.905           \n",
      "   chxe.ypos    frozen      499.013      496.013      502.013           \n",
      "   chxe.ellip   frozen     0.493759          0.2          0.8           \n",
      "   chxe.theta   frozen      -0.9948     -6.28319      6.28319    radians\n",
      "   chxe.ampl    thawed  8.23415e-07            0           10           \n",
      "   emap.ampl    frozen            1 -3.40282e+38  3.40282e+38           \n",
      "   pwn.fwhm     frozen            1            1            3           \n",
      "   pwn.xpos     thawed      498.111          498          502           \n",
      "   pwn.ypos     thawed      501.868          498          502           \n",
      "   pwn.ellip    frozen            0            0        0.999           \n",
      "   pwn.theta    frozen            0     -6.28319      6.28319    radians\n",
      "   pwn.ampl     thawed  0.000114459        1e-08            1           \n",
      "   blob.fwhm    thawed      7.02574            1           50           \n",
      "   blob.xpos    thawed      507.615          470          530           \n",
      "   blob.ypos    thawed      500.355          470          530           \n",
      "   blob.ellip   thawed     0.935119            0        0.999           \n",
      "   blob.theta   thawed      -1.0454     -6.28319      6.28319    radians\n",
      "   blob.ampl    thawed  6.33121e-05        1e-08            1           \n",
      "   bg.c0        frozen  7.55887e-07            0          100           \n"
     ]
    }
   ],
   "source": [
    "#shp.set_conf_opt(\"sigma\", 1.6448536269514722)\n",
    "shp.set_conf_opt('numcores', 3)\n",
    "shp.set_conf_opt('maxiters', 50)\n",
    "shp.set_conf_opt('fast', True)\n",
    "shp.set_conf_opt('remin', 10000.0)\n",
    "shp.set_conf_opt('soft_limits', True)\n",
    "shp.set_conf_opt('verbose', True)\n",
    "\n",
    "print(shp.get_model())"
   ]
  },
  {
   "cell_type": "code",
   "execution_count": 6,
   "metadata": {
    "scrolled": true
   },
   "outputs": [
    {
     "name": "stdout",
     "output_type": "stream",
     "text": [
      "#\n",
      "# f[ 8.234150e-07  4.981114e+02  5.018681e+02  1.144588e-04  7.025745e+00\n",
      "  5.076150e+02  5.003550e+02  9.351186e-01 -1.045401e+00  6.331209e-05] = 1.262614e+04\n",
      "# sigma = 1.000000e+00\n",
      "# target_stat = 1.262714e+04\n",
      "# tol = 1.000000e-02\n",
      "# smin = [ 0.000000e+00  4.980000e+02  4.980000e+02  1.000000e-08  1.000000e+00\n",
      "  4.700000e+02  4.700000e+02  0.000000e+00 -6.283185e+00  1.000000e-08]\n",
      "# smax = [ 10.       502.       502.         1.        50.       530.\n",
      " 530.         0.999      6.283185   1.      ]\n",
      "# hmin = [ 0.000000e+00  4.980000e+02  4.980000e+02  1.000000e-08  1.000000e+00\n",
      "  4.700000e+02  4.700000e+02  0.000000e+00 -6.283185e+00  1.000000e-08]\n",
      "# hmax = [ 10.       502.       502.         1.        50.       530.\n",
      " 530.         0.999      6.283185   1.      ]\n",
      "#\n",
      "# Note: for the intermediate steps, the notation:\n",
      "         par.name -/+: f( x ) = stat\n",
      "# ==> `stat` is the statistic when parameter `par.name` is frozen at `x`\n",
      "# while searching for the `lower/upper` confidence level, repectively.\n",
      "#\n"
     ]
    },
    {
     "name": "stderr",
     "output_type": "stream",
     "text": [
      "INFO:sherpa:#\n",
      "# f[ 8.234150e-07  4.981114e+02  5.018681e+02  1.144588e-04  7.025745e+00\n",
      "  5.076150e+02  5.003550e+02  9.351186e-01 -1.045401e+00  6.331209e-05] = 1.262614e+04\n",
      "# sigma = 1.000000e+00\n",
      "# target_stat = 1.262714e+04\n",
      "# tol = 1.000000e-02\n",
      "# smin = [ 0.000000e+00  4.980000e+02  4.980000e+02  1.000000e-08  1.000000e+00\n",
      "  4.700000e+02  4.700000e+02  0.000000e+00 -6.283185e+00  1.000000e-08]\n",
      "# smax = [ 10.       502.       502.         1.        50.       530.\n",
      " 530.         0.999      6.283185   1.      ]\n",
      "# hmin = [ 0.000000e+00  4.980000e+02  4.980000e+02  1.000000e-08  1.000000e+00\n",
      "  4.700000e+02  4.700000e+02  0.000000e+00 -6.283185e+00  1.000000e-08]\n",
      "# hmax = [ 10.       502.       502.         1.        50.       530.\n",
      " 530.         0.999      6.283185   1.      ]\n",
      "#\n",
      "# Note: for the intermediate steps, the notation:\n",
      "         par.name -/+: f( x ) = stat\n",
      "# ==> `stat` is the statistic when parameter `par.name` is frozen at `x`\n",
      "# while searching for the `lower/upper` confidence level, repectively.\n",
      "#\n"
     ]
    },
    {
     "name": "stdout",
     "output_type": "stream",
     "text": [
      "      blob.ellip -: f( 9.161414e-01 ) = -1.091076e+00\n"
     ]
    },
    {
     "name": "stderr",
     "output_type": "stream",
     "text": [
      "INFO:sherpa:      blob.ellip -: f( 9.161414e-01 ) = -1.091076e+00\n"
     ]
    },
    {
     "name": "stdout",
     "output_type": "stream",
     "text": [
      "            blob.ellip -: f( 9.161414e-01 ) = -1.091076e+00\n"
     ]
    },
    {
     "name": "stderr",
     "output_type": "stream",
     "text": [
      "INFO:sherpa:            blob.ellip -: f( 9.161414e-01 ) = -1.091076e+00\n"
     ]
    },
    {
     "name": "stdout",
     "output_type": "stream",
     "text": [
      "blob.xpos -: f( 5.056782e+02 ) = -1.079962e+00\n"
     ]
    },
    {
     "name": "stderr",
     "output_type": "stream",
     "text": [
      "INFO:sherpa:blob.xpos -: f( 5.056782e+02 ) = -1.079962e+00\n"
     ]
    },
    {
     "name": "stdout",
     "output_type": "stream",
     "text": [
      "      blob.ellip -: f( 8.781872e-01 ) = -1.170604e+00\n"
     ]
    },
    {
     "name": "stderr",
     "output_type": "stream",
     "text": [
      "INFO:sherpa:      blob.ellip -: f( 8.781872e-01 ) = -1.170604e+00\n"
     ]
    },
    {
     "name": "stdout",
     "output_type": "stream",
     "text": [
      "            blob.ellip -: f( 8.781872e-01 ) = -1.170604e+00\n"
     ]
    },
    {
     "name": "stderr",
     "output_type": "stream",
     "text": [
      "INFO:sherpa:            blob.ellip -: f( 8.781872e-01 ) = -1.170604e+00\n"
     ]
    },
    {
     "name": "stdout",
     "output_type": "stream",
     "text": [
      "blob.xpos -: f( 5.018047e+02 ) = -1.731570e+00\n"
     ]
    },
    {
     "name": "stderr",
     "output_type": "stream",
     "text": [
      "INFO:sherpa:blob.xpos -: f( 5.018047e+02 ) = -1.731570e+00\n"
     ]
    },
    {
     "name": "stdout",
     "output_type": "stream",
     "text": [
      "      blob.ellip -: f( 7.180778e-01 ) = -1.153155e+00\n"
     ]
    },
    {
     "name": "stderr",
     "output_type": "stream",
     "text": [
      "INFO:sherpa:      blob.ellip -: f( 7.180778e-01 ) = -1.153155e+00\n"
     ]
    },
    {
     "name": "stdout",
     "output_type": "stream",
     "text": [
      "            blob.ellip -: f( 7.180778e-01 ) = -1.153155e+00\n"
     ]
    },
    {
     "name": "stderr",
     "output_type": "stream",
     "text": [
      "INFO:sherpa:            blob.ellip -: f( 7.180778e-01 ) = -1.153155e+00\n"
     ]
    },
    {
     "name": "stdout",
     "output_type": "stream",
     "text": [
      "blob.xpos -: f( 4.940577e+02 ) = 3.020406e+00\n"
     ]
    },
    {
     "name": "stderr",
     "output_type": "stream",
     "text": [
      "INFO:sherpa:blob.xpos -: f( 4.940577e+02 ) = 3.020406e+00\n"
     ]
    },
    {
     "name": "stdout",
     "output_type": "stream",
     "text": [
      "      blob.ellip -: f( 4.701188e-01 ) = -1.228522e+00\n"
     ]
    },
    {
     "name": "stderr",
     "output_type": "stream",
     "text": [
      "INFO:sherpa:      blob.ellip -: f( 4.701188e-01 ) = -1.228522e+00\n"
     ]
    },
    {
     "name": "stdout",
     "output_type": "stream",
     "text": [
      "            blob.ellip -: f( 4.701188e-01 ) = -1.228522e+00\n"
     ]
    },
    {
     "name": "stderr",
     "output_type": "stream",
     "text": [
      "INFO:sherpa:            blob.ellip -: f( 4.701188e-01 ) = -1.228522e+00\n"
     ]
    },
    {
     "name": "stdout",
     "output_type": "stream",
     "text": [
      "      blob.ellip -: f( 1.664845e-01 ) = -1.181872e+00\n"
     ]
    },
    {
     "name": "stderr",
     "output_type": "stream",
     "text": [
      "INFO:sherpa:      blob.ellip -: f( 1.664845e-01 ) = -1.181872e+00\n"
     ]
    },
    {
     "name": "stdout",
     "output_type": "stream",
     "text": [
      "            blob.ellip -: f( 1.664845e-01 ) = -1.181872e+00\n"
     ]
    },
    {
     "name": "stderr",
     "output_type": "stream",
     "text": [
      "INFO:sherpa:            blob.ellip -: f( 1.664845e-01 ) = -1.181872e+00\n"
     ]
    },
    {
     "name": "stdout",
     "output_type": "stream",
     "text": [
      "      blob.ellip -: f( 0.000000e+00 ) = -1.172938e+00\n"
     ]
    },
    {
     "name": "stderr",
     "output_type": "stream",
     "text": [
      "INFO:sherpa:      blob.ellip -: f( 0.000000e+00 ) = -1.172938e+00\n"
     ]
    },
    {
     "name": "stdout",
     "output_type": "stream",
     "text": [
      "      blob.ellip lower bound:\t-----\n"
     ]
    },
    {
     "name": "stderr",
     "output_type": "stream",
     "text": [
      "INFO:sherpa:      blob.ellip lower bound:\t-----\n"
     ]
    },
    {
     "name": "stdout",
     "output_type": "stream",
     "text": [
      "blob.xpos -: f( 4.989818e+02 ) = -9.662346e-01\n"
     ]
    },
    {
     "name": "stderr",
     "output_type": "stream",
     "text": [
      "INFO:sherpa:blob.xpos -: f( 4.989818e+02 ) = -9.662346e-01\n"
     ]
    },
    {
     "name": "stdout",
     "output_type": "stream",
     "text": [
      "            blob.ellip -: f( 0.000000e+00 ) = -1.172938e+00\n"
     ]
    },
    {
     "name": "stderr",
     "output_type": "stream",
     "text": [
      "INFO:sherpa:            blob.ellip -: f( 0.000000e+00 ) = -1.172938e+00\n"
     ]
    },
    {
     "name": "stdout",
     "output_type": "stream",
     "text": [
      "            blob.ellip lower bound:\t-----\n"
     ]
    },
    {
     "name": "stderr",
     "output_type": "stream",
     "text": [
      "INFO:sherpa:            blob.ellip lower bound:\t-----\n"
     ]
    },
    {
     "name": "stdout",
     "output_type": "stream",
     "text": [
      "      blob.ellip +: f( 9.540957e-01 ) = -1.063916e+00\n"
     ]
    },
    {
     "name": "stderr",
     "output_type": "stream",
     "text": [
      "INFO:sherpa:      blob.ellip +: f( 9.540957e-01 ) = -1.063916e+00\n"
     ]
    },
    {
     "name": "stdout",
     "output_type": "stream",
     "text": [
      "            blob.ellip +: f( 9.540957e-01 ) = -1.063916e+00\n"
     ]
    },
    {
     "name": "stderr",
     "output_type": "stream",
     "text": [
      "INFO:sherpa:            blob.ellip +: f( 9.540957e-01 ) = -1.063916e+00\n"
     ]
    },
    {
     "name": "stdout",
     "output_type": "stream",
     "text": [
      "blob.xpos -: f( 4.965197e+02 ) = 8.062882e-02\n"
     ]
    },
    {
     "name": "stderr",
     "output_type": "stream",
     "text": [
      "INFO:sherpa:blob.xpos -: f( 4.965197e+02 ) = 8.062882e-02\n"
     ]
    },
    {
     "name": "stdout",
     "output_type": "stream",
     "text": [
      "      blob.ellip +: f( 9.920500e-01 ) = -1.146531e+00\n"
     ]
    },
    {
     "name": "stderr",
     "output_type": "stream",
     "text": [
      "INFO:sherpa:      blob.ellip +: f( 9.920500e-01 ) = -1.146531e+00\n"
     ]
    },
    {
     "name": "stdout",
     "output_type": "stream",
     "text": [
      "            blob.ellip +: f( 9.920500e-01 ) = -1.146531e+00\n"
     ]
    },
    {
     "name": "stderr",
     "output_type": "stream",
     "text": [
      "INFO:sherpa:            blob.ellip +: f( 9.920500e-01 ) = -1.146531e+00\n"
     ]
    },
    {
     "name": "stdout",
     "output_type": "stream",
     "text": [
      "blob.xpos -: f( 4.967094e+02 ) = -6.352370e-02\n"
     ]
    },
    {
     "name": "stderr",
     "output_type": "stream",
     "text": [
      "INFO:sherpa:blob.xpos -: f( 4.967094e+02 ) = -6.352370e-02\n"
     ]
    },
    {
     "name": "stdout",
     "output_type": "stream",
     "text": [
      "      blob.ellip +: f( 9.990000e-01 ) = 1.042116e+00\n"
     ]
    },
    {
     "name": "stderr",
     "output_type": "stream",
     "text": [
      "INFO:sherpa:      blob.ellip +: f( 9.990000e-01 ) = 1.042116e+00\n"
     ]
    },
    {
     "name": "stdout",
     "output_type": "stream",
     "text": [
      "            blob.ellip +: f( 9.990000e-01 ) = 1.042116e+00\n"
     ]
    },
    {
     "name": "stderr",
     "output_type": "stream",
     "text": [
      "INFO:sherpa:            blob.ellip +: f( 9.990000e-01 ) = 1.042116e+00\n"
     ]
    },
    {
     "name": "stdout",
     "output_type": "stream",
     "text": [
      "blob.xpos -: f( 4.966258e+02 ) = 2.791600e+00\n"
     ]
    },
    {
     "name": "stderr",
     "output_type": "stream",
     "text": [
      "INFO:sherpa:blob.xpos -: f( 4.966258e+02 ) = 2.791600e+00\n"
     ]
    },
    {
     "name": "stdout",
     "output_type": "stream",
     "text": [
      "      blob.ellip +: f( 9.955250e-01 ) = -1.198200e+00\n"
     ]
    },
    {
     "name": "stderr",
     "output_type": "stream",
     "text": [
      "INFO:sherpa:      blob.ellip +: f( 9.955250e-01 ) = -1.198200e+00\n"
     ]
    },
    {
     "name": "stdout",
     "output_type": "stream",
     "text": [
      "            blob.ellip +: f( 9.955250e-01 ) = -1.198200e+00\n"
     ]
    },
    {
     "name": "stderr",
     "output_type": "stream",
     "text": [
      "INFO:sherpa:            blob.ellip +: f( 9.955250e-01 ) = -1.198200e+00\n"
     ]
    },
    {
     "name": "stdout",
     "output_type": "stream",
     "text": [
      "blob.xpos -: f( 4.967042e+02 ) = 2.684603e+00\n"
     ]
    },
    {
     "name": "stderr",
     "output_type": "stream",
     "text": [
      "INFO:sherpa:blob.xpos -: f( 4.967042e+02 ) = 2.684603e+00\n"
     ]
    },
    {
     "name": "stdout",
     "output_type": "stream",
     "text": [
      "      blob.ellip +: f( 9.977874e-01 ) = -6.676354e-01\n"
     ]
    },
    {
     "name": "stderr",
     "output_type": "stream",
     "text": [
      "INFO:sherpa:      blob.ellip +: f( 9.977874e-01 ) = -6.676354e-01\n"
     ]
    },
    {
     "name": "stdout",
     "output_type": "stream",
     "text": [
      "            blob.ellip +: f( 9.977874e-01 ) = -6.676354e-01\n"
     ]
    },
    {
     "name": "stderr",
     "output_type": "stream",
     "text": [
      "INFO:sherpa:            blob.ellip +: f( 9.977874e-01 ) = -6.676354e-01\n"
     ]
    },
    {
     "name": "stdout",
     "output_type": "stream",
     "text": [
      "blob.xpos -: f( 4.967068e+02 ) = -3.112735e-01\n"
     ]
    },
    {
     "name": "stderr",
     "output_type": "stream",
     "text": [
      "INFO:sherpa:blob.xpos -: f( 4.967068e+02 ) = -3.112735e-01\n"
     ]
    },
    {
     "name": "stdout",
     "output_type": "stream",
     "text": [
      "      blob.ellip +: f( 9.983486e-01 ) = -8.858983e-01\n"
     ]
    },
    {
     "name": "stderr",
     "output_type": "stream",
     "text": [
      "INFO:sherpa:      blob.ellip +: f( 9.983486e-01 ) = -8.858983e-01\n"
     ]
    },
    {
     "name": "stdout",
     "output_type": "stream",
     "text": [
      "      blob.ellip +: WARNING: The confidence level lies within (9.955250e-01, 9.990000e-01)\n"
     ]
    },
    {
     "name": "stderr",
     "output_type": "stream",
     "text": [
      "INFO:sherpa:      blob.ellip +: WARNING: The confidence level lies within (9.955250e-01, 9.990000e-01)\n"
     ]
    },
    {
     "name": "stdout",
     "output_type": "stream",
     "text": [
      "      blob.ellip upper bound:\t0.0621439\n"
     ]
    },
    {
     "name": "stderr",
     "output_type": "stream",
     "text": [
      "INFO:sherpa:      blob.ellip upper bound:\t0.0621439\n"
     ]
    },
    {
     "name": "stdout",
     "output_type": "stream",
     "text": [
      "            blob.ellip +: f( 9.983486e-01 ) = -8.858983e-01\n"
     ]
    },
    {
     "name": "stderr",
     "output_type": "stream",
     "text": [
      "INFO:sherpa:            blob.ellip +: f( 9.983486e-01 ) = -8.858983e-01\n"
     ]
    },
    {
     "name": "stdout",
     "output_type": "stream",
     "text": [
      "            blob.ellip +: WARNING: The confidence level lies within (9.955250e-01, 9.990000e-01)\n"
     ]
    },
    {
     "name": "stderr",
     "output_type": "stream",
     "text": [
      "INFO:sherpa:            blob.ellip +: WARNING: The confidence level lies within (9.955250e-01, 9.990000e-01)\n"
     ]
    },
    {
     "name": "stdout",
     "output_type": "stream",
     "text": [
      "            blob.ellip upper bound:\t0.0621439\n"
     ]
    },
    {
     "name": "stderr",
     "output_type": "stream",
     "text": [
      "INFO:sherpa:            blob.ellip upper bound:\t0.0621439\n"
     ]
    },
    {
     "name": "stdout",
     "output_type": "stream",
     "text": [
      "blob.xpos -: f( 4.967063e+02 ) = -9.040500e-01\n"
     ]
    },
    {
     "name": "stderr",
     "output_type": "stream",
     "text": [
      "INFO:sherpa:blob.xpos -: f( 4.967063e+02 ) = -9.040500e-01\n"
     ]
    },
    {
     "name": "stdout",
     "output_type": "stream",
     "text": [
      "         blob.fwhm -: f( 6.586636e+00 ) = -1.418923e+00\n"
     ]
    },
    {
     "name": "stderr",
     "output_type": "stream",
     "text": [
      "INFO:sherpa:         blob.fwhm -: f( 6.586636e+00 ) = -1.418923e+00\n"
     ]
    },
    {
     "name": "stdout",
     "output_type": "stream",
     "text": [
      "         blob.fwhm -: f( 5.708418e+00 ) = -1.141528e+00\n"
     ]
    },
    {
     "name": "stderr",
     "output_type": "stream",
     "text": [
      "INFO:sherpa:         blob.fwhm -: f( 5.708418e+00 ) = -1.141528e+00\n"
     ]
    },
    {
     "name": "stdout",
     "output_type": "stream",
     "text": [
      "blob.xpos -: f( 4.967051e+02 ) = 1.553977e+00\n"
     ]
    },
    {
     "name": "stderr",
     "output_type": "stream",
     "text": [
      "INFO:sherpa:blob.xpos -: f( 4.967051e+02 ) = 1.553977e+00\n"
     ]
    },
    {
     "name": "stdout",
     "output_type": "stream",
     "text": [
      "blob.xpos -: WARNING: The confidence level lies within (4.967042e+02, 4.967068e+02)\n"
     ]
    },
    {
     "name": "stderr",
     "output_type": "stream",
     "text": [
      "INFO:sherpa:blob.xpos -: WARNING: The confidence level lies within (4.967042e+02, 4.967068e+02)\n"
     ]
    },
    {
     "name": "stdout",
     "output_type": "stream",
     "text": [
      "blob.xpos lower bound:\t-10.9095\n"
     ]
    },
    {
     "name": "stderr",
     "output_type": "stream",
     "text": [
      "INFO:sherpa:blob.xpos lower bound:\t-10.9095\n"
     ]
    },
    {
     "name": "stdout",
     "output_type": "stream",
     "text": [
      "         blob.fwhm -: f( 5.067288e+00 ) = -1.306764e+00\n"
     ]
    },
    {
     "name": "stderr",
     "output_type": "stream",
     "text": [
      "INFO:sherpa:         blob.fwhm -: f( 5.067288e+00 ) = -1.306764e+00\n"
     ]
    },
    {
     "name": "stdout",
     "output_type": "stream",
     "text": [
      "blob.xpos +: f( 5.095518e+02 ) = -1.090405e+00\n"
     ]
    },
    {
     "name": "stderr",
     "output_type": "stream",
     "text": [
      "INFO:sherpa:blob.xpos +: f( 5.095518e+02 ) = -1.090405e+00\n"
     ]
    },
    {
     "name": "stdout",
     "output_type": "stream",
     "text": [
      "         blob.fwhm -: f( 1.554416e+00 ) = -7.506598e-01\n"
     ]
    },
    {
     "name": "stderr",
     "output_type": "stream",
     "text": [
      "INFO:sherpa:         blob.fwhm -: f( 1.554416e+00 ) = -7.506598e-01\n"
     ]
    },
    {
     "name": "stdout",
     "output_type": "stream",
     "text": [
      "blob.xpos +: f( 5.134253e+02 ) = -4.638211e-01\n"
     ]
    },
    {
     "name": "stderr",
     "output_type": "stream",
     "text": [
      "INFO:sherpa:blob.xpos +: f( 5.134253e+02 ) = -4.638211e-01\n"
     ]
    },
    {
     "name": "stdout",
     "output_type": "stream",
     "text": [
      "         blob.fwhm -: f( 1.000000e+00 ) = 5.952337e-01\n"
     ]
    },
    {
     "name": "stderr",
     "output_type": "stream",
     "text": [
      "INFO:sherpa:         blob.fwhm -: f( 1.000000e+00 ) = 5.952337e-01\n"
     ]
    },
    {
     "name": "stdout",
     "output_type": "stream",
     "text": [
      "         blob.fwhm -: f( 1.245195e+00 ) = -5.637909e-01\n"
     ]
    },
    {
     "name": "stderr",
     "output_type": "stream",
     "text": [
      "INFO:sherpa:         blob.fwhm -: f( 1.245195e+00 ) = -5.637909e-01\n"
     ]
    },
    {
     "name": "stdout",
     "output_type": "stream",
     "text": [
      "blob.xpos +: f( 5.147563e+02 ) = 2.139791e+00\n"
     ]
    },
    {
     "name": "stderr",
     "output_type": "stream",
     "text": [
      "INFO:sherpa:blob.xpos +: f( 5.147563e+02 ) = 2.139791e+00\n"
     ]
    },
    {
     "name": "stdout",
     "output_type": "stream",
     "text": [
      "         blob.fwhm -: f( 1.125924e+00 ) = 4.545957e-01\n"
     ]
    },
    {
     "name": "stderr",
     "output_type": "stream",
     "text": [
      "INFO:sherpa:         blob.fwhm -: f( 1.125924e+00 ) = 4.545957e-01\n"
     ]
    },
    {
     "name": "stdout",
     "output_type": "stream",
     "text": [
      "         blob.fwhm -: f( 1.179165e+00 ) = 2.831833e-02\n"
     ]
    },
    {
     "name": "stderr",
     "output_type": "stream",
     "text": [
      "INFO:sherpa:         blob.fwhm -: f( 1.179165e+00 ) = 2.831833e-02\n"
     ]
    },
    {
     "name": "stdout",
     "output_type": "stream",
     "text": [
      "blob.xpos +: f( 5.136624e+02 ) = -2.148284e-01\n"
     ]
    },
    {
     "name": "stderr",
     "output_type": "stream",
     "text": [
      "INFO:sherpa:blob.xpos +: f( 5.136624e+02 ) = -2.148284e-01\n"
     ]
    },
    {
     "ename": "KeyboardInterrupt",
     "evalue": "",
     "output_type": "error",
     "traceback": [
      "\u001b[0;31m---------------------------------------------------------------------------\u001b[0m",
      "\u001b[0;31mKeyboardInterrupt\u001b[0m                         Traceback (most recent call last)",
      "\u001b[0;32m<ipython-input-6-5d7095723da7>\u001b[0m in \u001b[0;36m<module>\u001b[0;34m()\u001b[0m\n\u001b[0;32m----> 1\u001b[0;31m \u001b[0mshp\u001b[0m\u001b[0;34m.\u001b[0m\u001b[0mconf\u001b[0m\u001b[0;34m(\u001b[0m\u001b[0mblob\u001b[0m\u001b[0;34m.\u001b[0m\u001b[0mxpos\u001b[0m\u001b[0;34m,\u001b[0m \u001b[0mblob\u001b[0m\u001b[0;34m.\u001b[0m\u001b[0mypos\u001b[0m\u001b[0;34m,\u001b[0m \u001b[0mblob\u001b[0m\u001b[0;34m.\u001b[0m\u001b[0mellip\u001b[0m\u001b[0;34m,\u001b[0m \u001b[0mblob\u001b[0m\u001b[0;34m.\u001b[0m\u001b[0mfwhm\u001b[0m\u001b[0;34m,\u001b[0m \u001b[0mblob\u001b[0m\u001b[0;34m.\u001b[0m\u001b[0mellip\u001b[0m\u001b[0;34m)\u001b[0m\u001b[0;34m\u001b[0m\u001b[0m\n\u001b[0m",
      "\u001b[0;32m<string>\u001b[0m in \u001b[0;36mconf\u001b[0;34m(*args)\u001b[0m\n",
      "\u001b[0;32m/usr/local/lib/python2.7/dist-packages/sherpa-4.10.0+4.gf7a223e.dirty-py2.7-linux-x86_64.egg/sherpa/ui/utils.pyc\u001b[0m in \u001b[0;36mconf\u001b[0;34m(self, *args)\u001b[0m\n\u001b[1;32m   9538\u001b[0m \u001b[0;34m\u001b[0m\u001b[0m\n\u001b[1;32m   9539\u001b[0m         \"\"\"\n\u001b[0;32m-> 9540\u001b[0;31m         \u001b[0mself\u001b[0m\u001b[0;34m.\u001b[0m\u001b[0m_confidence_results\u001b[0m \u001b[0;34m=\u001b[0m \u001b[0mself\u001b[0m\u001b[0;34m.\u001b[0m\u001b[0m_est_errors\u001b[0m\u001b[0;34m(\u001b[0m\u001b[0margs\u001b[0m\u001b[0;34m,\u001b[0m \u001b[0;34m'confidence'\u001b[0m\u001b[0;34m)\u001b[0m\u001b[0;34m\u001b[0m\u001b[0m\n\u001b[0m\u001b[1;32m   9541\u001b[0m \u001b[0;34m\u001b[0m\u001b[0m\n\u001b[1;32m   9542\u001b[0m     \u001b[0;31m# DOC-TODO: add a deprecation note?\u001b[0m\u001b[0;34m\u001b[0m\u001b[0;34m\u001b[0m\u001b[0m\n",
      "\u001b[0;32m/usr/local/lib/python2.7/dist-packages/sherpa-4.10.0+4.gf7a223e.dirty-py2.7-linux-x86_64.egg/sherpa/ui/utils.pyc\u001b[0m in \u001b[0;36m_est_errors\u001b[0;34m(self, args, methodname)\u001b[0m\n\u001b[1;32m   9218\u001b[0m             \u001b[0mparlist\u001b[0m \u001b[0;34m=\u001b[0m \u001b[0mNone\u001b[0m\u001b[0;34m\u001b[0m\u001b[0m\n\u001b[1;32m   9219\u001b[0m         \u001b[0mids\u001b[0m\u001b[0;34m,\u001b[0m \u001b[0mf\u001b[0m \u001b[0;34m=\u001b[0m \u001b[0mself\u001b[0m\u001b[0;34m.\u001b[0m\u001b[0m_get_fit\u001b[0m\u001b[0;34m(\u001b[0m\u001b[0mid\u001b[0m\u001b[0;34m,\u001b[0m \u001b[0motherids\u001b[0m\u001b[0;34m,\u001b[0m \u001b[0mself\u001b[0m\u001b[0;34m.\u001b[0m\u001b[0m_estmethods\u001b[0m\u001b[0;34m[\u001b[0m\u001b[0mmethodname\u001b[0m\u001b[0;34m]\u001b[0m\u001b[0;34m)\u001b[0m\u001b[0;34m\u001b[0m\u001b[0m\n\u001b[0;32m-> 9220\u001b[0;31m         \u001b[0mres\u001b[0m \u001b[0;34m=\u001b[0m \u001b[0mf\u001b[0m\u001b[0;34m.\u001b[0m\u001b[0mest_errors\u001b[0m\u001b[0;34m(\u001b[0m\u001b[0mself\u001b[0m\u001b[0;34m.\u001b[0m\u001b[0m_methods\u001b[0m\u001b[0;34m,\u001b[0m \u001b[0mparlist\u001b[0m\u001b[0;34m)\u001b[0m\u001b[0;34m\u001b[0m\u001b[0m\n\u001b[0m\u001b[1;32m   9221\u001b[0m         \u001b[0mres\u001b[0m\u001b[0;34m.\u001b[0m\u001b[0mdatasets\u001b[0m \u001b[0;34m=\u001b[0m \u001b[0mids\u001b[0m\u001b[0;34m\u001b[0m\u001b[0m\n\u001b[1;32m   9222\u001b[0m         \u001b[0minfo\u001b[0m\u001b[0;34m(\u001b[0m\u001b[0mres\u001b[0m\u001b[0;34m.\u001b[0m\u001b[0mformat\u001b[0m\u001b[0;34m(\u001b[0m\u001b[0;34m)\u001b[0m\u001b[0;34m)\u001b[0m\u001b[0;34m\u001b[0m\u001b[0m\n",
      "\u001b[0;32m/usr/local/lib/python2.7/dist-packages/sherpa-4.10.0+4.gf7a223e.dirty-py2.7-linux-x86_64.egg/sherpa/fit.pyc\u001b[0m in \u001b[0;36mrun\u001b[0;34m(fit, *args, **kwargs)\u001b[0m\n\u001b[1;32m     51\u001b[0m     \u001b[0;32mdef\u001b[0m \u001b[0mrun\u001b[0m\u001b[0;34m(\u001b[0m\u001b[0mfit\u001b[0m\u001b[0;34m,\u001b[0m \u001b[0;34m*\u001b[0m\u001b[0margs\u001b[0m\u001b[0;34m,\u001b[0m \u001b[0;34m**\u001b[0m\u001b[0mkwargs\u001b[0m\u001b[0;34m)\u001b[0m\u001b[0;34m:\u001b[0m\u001b[0;34m\u001b[0m\u001b[0m\n\u001b[1;32m     52\u001b[0m         \u001b[0mfit\u001b[0m\u001b[0;34m.\u001b[0m\u001b[0mmodel\u001b[0m\u001b[0;34m.\u001b[0m\u001b[0mstartup\u001b[0m\u001b[0;34m(\u001b[0m\u001b[0;34m)\u001b[0m\u001b[0;34m\u001b[0m\u001b[0m\n\u001b[0;32m---> 53\u001b[0;31m         \u001b[0mresult\u001b[0m \u001b[0;34m=\u001b[0m \u001b[0mfunc\u001b[0m\u001b[0;34m(\u001b[0m\u001b[0mfit\u001b[0m\u001b[0;34m,\u001b[0m \u001b[0;34m*\u001b[0m\u001b[0margs\u001b[0m\u001b[0;34m,\u001b[0m \u001b[0;34m**\u001b[0m\u001b[0mkwargs\u001b[0m\u001b[0;34m)\u001b[0m\u001b[0;34m\u001b[0m\u001b[0m\n\u001b[0m\u001b[1;32m     54\u001b[0m         \u001b[0mfit\u001b[0m\u001b[0;34m.\u001b[0m\u001b[0mmodel\u001b[0m\u001b[0;34m.\u001b[0m\u001b[0mteardown\u001b[0m\u001b[0;34m(\u001b[0m\u001b[0;34m)\u001b[0m\u001b[0;34m\u001b[0m\u001b[0m\n\u001b[1;32m     55\u001b[0m         \u001b[0;32mreturn\u001b[0m \u001b[0mresult\u001b[0m\u001b[0;34m\u001b[0m\u001b[0m\n",
      "\u001b[0;32m/usr/local/lib/python2.7/dist-packages/sherpa-4.10.0+4.gf7a223e.dirty-py2.7-linux-x86_64.egg/sherpa/fit.pyc\u001b[0m in \u001b[0;36mest_errors\u001b[0;34m(self, methoddict, parlist)\u001b[0m\n\u001b[1;32m   1550\u001b[0m                                             \u001b[0mparnums\u001b[0m\u001b[0;34m,\u001b[0m\u001b[0;34m\u001b[0m\u001b[0m\n\u001b[1;32m   1551\u001b[0m                                             \u001b[0mfreeze_par\u001b[0m\u001b[0;34m,\u001b[0m \u001b[0mthaw_par\u001b[0m\u001b[0;34m,\u001b[0m\u001b[0;34m\u001b[0m\u001b[0m\n\u001b[0;32m-> 1552\u001b[0;31m                                             report_progress, get_par_name)\n\u001b[0m\u001b[1;32m   1553\u001b[0m         \u001b[0;32mexcept\u001b[0m \u001b[0mEstNewMin\u001b[0m \u001b[0;32mas\u001b[0m \u001b[0me\u001b[0m\u001b[0;34m:\u001b[0m\u001b[0;34m\u001b[0m\u001b[0m\n\u001b[1;32m   1554\u001b[0m             \u001b[0;31m# If maximum number of refits has occurred, don't\u001b[0m\u001b[0;34m\u001b[0m\u001b[0;34m\u001b[0m\u001b[0m\n",
      "\u001b[0;32m/usr/local/lib/python2.7/dist-packages/sherpa-4.10.0+4.gf7a223e.dirty-py2.7-linux-x86_64.egg/sherpa/estmethods/__init__.pyc\u001b[0m in \u001b[0;36mcompute\u001b[0;34m(self, statfunc, fitfunc, pars, parmins, parmaxes, parhardmins, parhardmaxes, limit_parnums, freeze_par, thaw_par, report_progress, get_par_name, statargs, statkwargs)\u001b[0m\n\u001b[1;32m    252\u001b[0m                              \u001b[0mself\u001b[0m\u001b[0;34m.\u001b[0m\u001b[0mverbose\u001b[0m\u001b[0;34m,\u001b[0m \u001b[0mlimit_parnums\u001b[0m\u001b[0;34m,\u001b[0m\u001b[0;34m\u001b[0m\u001b[0m\n\u001b[1;32m    253\u001b[0m                              \u001b[0mstatcb\u001b[0m\u001b[0;34m,\u001b[0m \u001b[0mfitcb\u001b[0m\u001b[0;34m,\u001b[0m \u001b[0mreport_progress\u001b[0m\u001b[0;34m,\u001b[0m \u001b[0mget_par_name\u001b[0m\u001b[0;34m,\u001b[0m\u001b[0;34m\u001b[0m\u001b[0m\n\u001b[0;32m--> 254\u001b[0;31m                              self.parallel, self.numcores, self.openinterval)\n\u001b[0m\u001b[1;32m    255\u001b[0m \u001b[0;34m\u001b[0m\u001b[0m\n\u001b[1;32m    256\u001b[0m \u001b[0;34m\u001b[0m\u001b[0m\n",
      "\u001b[0;32m/usr/local/lib/python2.7/dist-packages/sherpa-4.10.0+4.gf7a223e.dirty-py2.7-linux-x86_64.egg/sherpa/estmethods/__init__.pyc\u001b[0m in \u001b[0;36mconfidence\u001b[0;34m(pars, parmins, parmaxes, parhardmins, parhardmaxes, sigma, eps, tol, maxiters, remin, verbose, limit_parnums, stat_cb, fit_cb, report_progress, get_par_name, do_parallel, numcores, open_interval)\u001b[0m\n\u001b[1;32m   1173\u001b[0m         \u001b[0;32mreturn\u001b[0m \u001b[0;34m(\u001b[0m\u001b[0mlower_limits\u001b[0m\u001b[0;34m,\u001b[0m \u001b[0mupper_limits\u001b[0m\u001b[0;34m,\u001b[0m \u001b[0meflags\u001b[0m\u001b[0;34m,\u001b[0m \u001b[0mnfits\u001b[0m\u001b[0;34m,\u001b[0m \u001b[0mNone\u001b[0m\u001b[0;34m)\u001b[0m\u001b[0;34m\u001b[0m\u001b[0m\n\u001b[1;32m   1174\u001b[0m \u001b[0;34m\u001b[0m\u001b[0m\n\u001b[0;32m-> 1175\u001b[0;31m     \u001b[0;32mreturn\u001b[0m \u001b[0mparallel_est\u001b[0m\u001b[0;34m(\u001b[0m\u001b[0mfunc\u001b[0m\u001b[0;34m,\u001b[0m \u001b[0mlimit_parnums\u001b[0m\u001b[0;34m,\u001b[0m \u001b[0mpars\u001b[0m\u001b[0;34m,\u001b[0m \u001b[0mnumcores\u001b[0m\u001b[0;34m)\u001b[0m\u001b[0;34m\u001b[0m\u001b[0m\n\u001b[0m\u001b[1;32m   1176\u001b[0m \u001b[0;34m\u001b[0m\u001b[0m\n\u001b[1;32m   1177\u001b[0m \u001b[0;31m#################################confidence###################################\u001b[0m\u001b[0;34m\u001b[0m\u001b[0;34m\u001b[0m\u001b[0m\n",
      "\u001b[0;32m/usr/local/lib/python2.7/dist-packages/sherpa-4.10.0+4.gf7a223e.dirty-py2.7-linux-x86_64.egg/sherpa/estmethods/__init__.pyc\u001b[0m in \u001b[0;36mparallel_est\u001b[0;34m(estfunc, limit_parnums, pars, numcores)\u001b[0m\n\u001b[1;32m   1227\u001b[0m              for parid, parnum in izip(parids, limit_parnums)]\n\u001b[1;32m   1228\u001b[0m \u001b[0;34m\u001b[0m\u001b[0m\n\u001b[0;32m-> 1229\u001b[0;31m     \u001b[0;32mreturn\u001b[0m \u001b[0mrun_tasks\u001b[0m\u001b[0;34m(\u001b[0m\u001b[0mtasks\u001b[0m\u001b[0;34m,\u001b[0m \u001b[0mout_q\u001b[0m\u001b[0;34m,\u001b[0m \u001b[0merr_q\u001b[0m\u001b[0;34m,\u001b[0m \u001b[0msize\u001b[0m\u001b[0;34m)\u001b[0m\u001b[0;34m\u001b[0m\u001b[0m\n\u001b[0m\u001b[1;32m   1230\u001b[0m \u001b[0;34m\u001b[0m\u001b[0m\n\u001b[1;32m   1231\u001b[0m \u001b[0;34m\u001b[0m\u001b[0m\n",
      "\u001b[0;32m/usr/local/lib/python2.7/dist-packages/sherpa-4.10.0+4.gf7a223e.dirty-py2.7-linux-x86_64.egg/sherpa/estmethods/__init__.pyc\u001b[0m in \u001b[0;36mrun_tasks\u001b[0;34m(tasks, out_q, err_q, size)\u001b[0m\n\u001b[1;32m   1245\u001b[0m         \u001b[0;31m# kill all slave processes on ctrl-C\u001b[0m\u001b[0;34m\u001b[0m\u001b[0;34m\u001b[0m\u001b[0m\n\u001b[1;32m   1246\u001b[0m         \u001b[0mdie\u001b[0m\u001b[0;34m(\u001b[0m\u001b[0mtasks\u001b[0m\u001b[0;34m)\u001b[0m\u001b[0;34m\u001b[0m\u001b[0m\n\u001b[0;32m-> 1247\u001b[0;31m         \u001b[0;32mraise\u001b[0m \u001b[0me\u001b[0m\u001b[0;34m\u001b[0m\u001b[0m\n\u001b[0m\u001b[1;32m   1248\u001b[0m \u001b[0;34m\u001b[0m\u001b[0m\n\u001b[1;32m   1249\u001b[0m     \u001b[0;32mif\u001b[0m \u001b[0;32mnot\u001b[0m \u001b[0merr_q\u001b[0m\u001b[0;34m.\u001b[0m\u001b[0mempty\u001b[0m\u001b[0;34m(\u001b[0m\u001b[0;34m)\u001b[0m\u001b[0;34m:\u001b[0m\u001b[0;34m\u001b[0m\u001b[0m\n",
      "\u001b[0;31mKeyboardInterrupt\u001b[0m: "
     ]
    }
   ],
   "source": [
    "shp.conf(blob.xpos, blob.ypos, blob.ellip, blob.fwhm, blob.ellip)"
   ]
  },
  {
   "cell_type": "code",
   "execution_count": 40,
   "metadata": {
    "collapsed": true
   },
   "outputs": [],
   "source": [
    "# saves the session to save the confidence results.\n",
    "shp.save('fits/combinedfit6pwnconf.sav')"
   ]
  }
 ],
 "metadata": {
  "kernelspec": {
   "display_name": "Python 2",
   "language": "python",
   "name": "python2"
  },
  "language_info": {
   "codemirror_mode": {
    "name": "ipython",
    "version": 2
   },
   "file_extension": ".py",
   "mimetype": "text/x-python",
   "name": "python",
   "nbconvert_exporter": "python",
   "pygments_lexer": "ipython2",
   "version": "2.7.12+"
  }
 },
 "nbformat": 4,
 "nbformat_minor": 2
}
