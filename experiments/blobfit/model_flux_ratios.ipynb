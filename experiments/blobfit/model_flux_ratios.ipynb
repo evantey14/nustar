{
 "cells": [
  {
   "cell_type": "code",
   "execution_count": 19,
   "metadata": {
    "collapsed": true
   },
   "outputs": [],
   "source": [
    "import math\n",
    "from scipy.integrate import dblquad"
   ]
  },
  {
   "cell_type": "code",
   "execution_count": 81,
   "metadata": {
    "collapsed": true
   },
   "outputs": [],
   "source": [
    "def semicircle(x, r):\n",
    "    return (r**2 - x**2)**.5"
   ]
  },
  {
   "cell_type": "code",
   "execution_count": 88,
   "metadata": {
    "collapsed": true
   },
   "outputs": [],
   "source": [
    "def const2D(x, y, a):\n",
    "    return a"
   ]
  },
  {
   "cell_type": "code",
   "execution_count": 47,
   "metadata": {
    "collapsed": true
   },
   "outputs": [],
   "source": [
    "# 2D gaussian model\n",
    "# defined based on http://cxc.cfa.harvard.edu/sherpa/ahelp/gauss2d.html\n",
    "\n",
    "def x_new(x, y, xpos, ypos, theta):\n",
    "    return (x - xpos) * math.cos(theta) + (y - ypos) * math.sin(theta)\n",
    "\n",
    "def y_new(x, y, xpos, ypos, theta):\n",
    "    return (y - ypos) * math.cos(theta) - (x - xpos) * math.sin(theta)\n",
    "\n",
    "def r(x, y, xpos, ypos, ellip, theta):\n",
    "    return (x_new(x, y, xpos, ypos, theta)**2 * (1 - ellip)**2 + y_new(x, y, xpos, ypos, theta)**2)**.5 / (1 - ellip)\n",
    "\n",
    "def gauss2D(x, y, xpos, ypos, ampl, fwhm, ellip, theta):\n",
    "    return ampl * math.exp(-2.7725887 * (r(x, y, xpos, ypos, ellip, theta) / fwhm)**2)"
   ]
  },
  {
   "cell_type": "code",
   "execution_count": 108,
   "metadata": {},
   "outputs": [],
   "source": [
    "rmax = 90 / 2.5\n",
    "\n",
    "# numbers based on a frozen donut-fitted chxe, position constrained pwn, and unconstrained blob (combinedfit6)\n",
    "chxeargs = (500 - 499.905, 500 - 499.013, 8.23415e-7, 51.2412, .493759, -.9948)\n",
    "pwnargs = (500 - 498.111, 500 - 501.868, .000114459, 1, 0, 0)\n",
    "blobargs = (500 - 507.615, 500 - 500.355, 6.33121e-5, 7.02574, .935119, -1.0454)\n",
    "bgargs = (7.55887e-7,)\n",
    "\n",
    "chxevol = dblquad(gauss2D, -rmax, rmax, \n",
    "                  lambda x: -semicircle(x, rmax), lambda x: semicircle(x, rmax), \n",
    "                  args = chxeargs)[0]\n",
    "\n",
    "pwnvol = dblquad(gauss2D, -rmax, rmax, \n",
    "                 lambda x: -semicircle(x, rmax), lambda x: semicircle(x, rmax), \n",
    "                 args = pwnargs)[0]\n",
    "\n",
    "blobvol = dblquad(gauss2D, -rmax, rmax, \n",
    "                  lambda x: -semicircle(x, rmax), lambda x: semicircle(x, rmax), \n",
    "                  args = blobargs)[0]\n",
    "\n",
    "bgvol = dblquad(const2D, -rmax, rmax, \n",
    "                lambda x: -semicircle(x, rmax), lambda x: semicircle(x, rmax), \n",
    "                args = bgargs)[0]"
   ]
  },
  {
   "cell_type": "code",
   "execution_count": 107,
   "metadata": {
    "scrolled": true
   },
   "outputs": [
    {
     "name": "stdout",
     "output_type": "stream",
     "text": [
      "0.308708790827\n",
      "0.128502384078\n",
      "0.223971151155\n",
      "0.33881767394\n"
     ]
    }
   ],
   "source": [
    "totalvol = chxevol + pwnvol + blobvol + bgvol\n",
    "\n",
    "print(chxevol / totalvol)\n",
    "print(pwnvol / totalvol)\n",
    "print(blobvol / totalvol)\n",
    "print(bgvol / totalvol)"
   ]
  }
 ],
 "metadata": {
  "kernelspec": {
   "display_name": "Python 2",
   "language": "python",
   "name": "python2"
  },
  "language_info": {
   "codemirror_mode": {
    "name": "ipython",
    "version": 2
   },
   "file_extension": ".py",
   "mimetype": "text/x-python",
   "name": "python",
   "nbconvert_exporter": "python",
   "pygments_lexer": "ipython2",
   "version": "2.7.12+"
  }
 },
 "nbformat": 4,
 "nbformat_minor": 2
}
