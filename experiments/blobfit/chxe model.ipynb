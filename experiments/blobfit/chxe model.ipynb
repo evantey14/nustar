{
 "cells": [
  {
   "cell_type": "code",
   "execution_count": 1,
   "metadata": {
    "collapsed": true,
    "scrolled": true
   },
   "outputs": [],
   "source": [
    "import sherpa.astro.ui as shp\n",
    "import utils"
   ]
  },
  {
   "cell_type": "code",
   "execution_count": 2,
   "metadata": {
    "collapsed": true
   },
   "outputs": [],
   "source": [
    "shp.set_stat('cash')\n",
    "shp.set_method('simplex')\n",
    "shp.set_method_opt('verbose', 1)"
   ]
  },
  {
   "cell_type": "code",
   "execution_count": 3,
   "metadata": {
    "collapsed": true
   },
   "outputs": [],
   "source": [
    "utils.setup('numosaic_fin_combined_20-40keV.img')"
   ]
  },
  {
   "cell_type": "code",
   "execution_count": 4,
   "metadata": {
    "collapsed": true
   },
   "outputs": [],
   "source": [
    "shp.ignore2d('circle(500,500,1000)')\n",
    "shp.notice2d('circle(500,500,125)') # 1 px = 2.5\"\n",
    "shp.image_data()"
   ]
  },
  {
   "cell_type": "code",
   "execution_count": 49,
   "metadata": {
    "scrolled": true
   },
   "outputs": [
    {
     "name": "stdout",
     "output_type": "stream",
     "text": [
      "Loading 20-40 keV/bg 180-225.model\n",
      "const2d.bg\n",
      "   Param        Type          Value          Min          Max      Units\n",
      "   -----        ----          -----          ---          ---      -----\n",
      "   bg.c0        frozen  3.08124e-06            0          100           \n"
     ]
    }
   ],
   "source": [
    "utils.load_components('20-40 keV/bg 180-225.model')"
   ]
  },
  {
   "cell_type": "code",
   "execution_count": 50,
   "metadata": {},
   "outputs": [],
   "source": [
    "shp.ignore2d('circle(500,500,1000)')\n",
    "shp.notice2d('circle(500,500,90)')\n",
    "shp.ignore2d('circle(500,500,72)')\n",
    "shp.image_data()"
   ]
  },
  {
   "cell_type": "code",
   "execution_count": 53,
   "metadata": {
    "scrolled": false
   },
   "outputs": [
    {
     "name": "stdout",
     "output_type": "stream",
     "text": [
      "(psfmodel.psf((gauss2d.chxe * tablemodel.emap)) + (const2d.bg * tablemodel.emap))\n",
      "   Param        Type          Value          Min          Max      Units\n",
      "   -----        ----          -----          ---          ---      -----\n",
      "   chxe.fwhm    thawed           75            1          200           \n",
      "   chxe.xpos    thawed        497.4        482.4        512.4           \n",
      "   chxe.ypos    thawed        499.1        484.1        514.1           \n",
      "   chxe.ellip   thawed          0.5            0        0.999           \n",
      "   chxe.theta   thawed           -1     -6.28319      6.28319    radians\n",
      "   chxe.ampl    thawed        1e-05 -3.40282e+38  3.40282e+38           \n",
      "   emap.ampl    frozen            1 -3.40282e+38  3.40282e+38           \n",
      "   bg.c0        frozen  3.08124e-06            0          100           \n"
     ]
    }
   ],
   "source": [
    "# CHXE model\n",
    "shp.set_full_model(psf(shp.gauss2d.chxe*emap) + bg*emap)\n",
    "\n",
    "shp.set_par(chxe.xpos, 497.4, 497.4-15, 497.4+15)\n",
    "shp.set_par(chxe.ypos, 499.1, 499.1-15, 499.1+15)\n",
    "shp.set_par(chxe.fwhm, 75, 1, 200)\n",
    "shp.set_par(chxe.ellip, .5)\n",
    "shp.set_par(chxe.theta, -1)\n",
    "shp.set_par(chxe.ampl, 1e-5)\n",
    "shp.thaw(chxe.ellip, chxe.theta)\n",
    "\n",
    "shp.freeze(bg)\n",
    "\n",
    "print(shp.get_model())"
   ]
  },
  {
   "cell_type": "code",
   "execution_count": 54,
   "metadata": {},
   "outputs": [],
   "source": [
    "shp.ignore2d('circle(500,500,1000)')\n",
    "shp.notice2d('circle(500,500,72)')\n",
    "#shp.ignore2d('circle(500,500,24)')\n",
    "shp.image_fit()"
   ]
  },
  {
   "cell_type": "code",
   "execution_count": 55,
   "metadata": {
    "scrolled": false
   },
   "outputs": [
    {
     "name": "stdout",
     "output_type": "stream",
     "text": [
      "Dataset               = 1\n",
      "Method                = neldermead\n",
      "Statistic             = cash\n",
      "Initial fit statistic = 20211.6\n",
      "Final fit statistic   = 19782.5 at function evaluation 1439\n",
      "Data points           = 16241\n",
      "Degrees of freedom    = 16235\n",
      "Change in statistic   = 429.103\n",
      "   chxe.fwhm      53.5051     \n",
      "   chxe.xpos      497.962     \n",
      "   chxe.ypos      500.176     \n",
      "   chxe.ellip     0.470146    \n",
      "   chxe.theta     -1.00406    \n",
      "   chxe.ampl      1.30944e-05 \n",
      "CPU times: user 4min 28s, sys: 8 ms, total: 4min 28s\n",
      "Wall time: 4min 28s\n"
     ]
    }
   ],
   "source": [
    "shp.ignore2d('circle(500,500,1000)')\n",
    "shp.notice2d('circle(500,500,72)')\n",
    "#shp.ignore2d('circle(500,500,24)')\n",
    "%time shp.fit()"
   ]
  },
  {
   "cell_type": "code",
   "execution_count": 56,
   "metadata": {
    "scrolled": false
   },
   "outputs": [
    {
     "name": "stdout",
     "output_type": "stream",
     "text": [
      "(psfmodel.psf((gauss2d.chxe * tablemodel.emap)) + (const2d.bg * tablemodel.emap))\n",
      "   Param        Type          Value          Min          Max      Units\n",
      "   -----        ----          -----          ---          ---      -----\n",
      "   chxe.fwhm    thawed      53.5051            1          200           \n",
      "   chxe.xpos    thawed      497.962        482.4        512.4           \n",
      "   chxe.ypos    thawed      500.176        484.1        514.1           \n",
      "   chxe.ellip   thawed     0.470146            0        0.999           \n",
      "   chxe.theta   thawed     -1.00406     -6.28319      6.28319    radians\n",
      "   chxe.ampl    thawed  1.30944e-05 -3.40282e+38  3.40282e+38           \n",
      "   emap.ampl    frozen            1 -3.40282e+38  3.40282e+38           \n",
      "   bg.c0        frozen  3.08124e-06            0          100           \n"
     ]
    }
   ],
   "source": [
    "shp.ignore2d('circle(500,500,1000)')\n",
    "shp.notice2d('circle(500,500,72)')\n",
    "#shp.ignore2d('circle(500,500,24)')\n",
    "shp.image_fit()\n",
    "print(shp.get_model())"
   ]
  },
  {
   "cell_type": "code",
   "execution_count": 58,
   "metadata": {},
   "outputs": [],
   "source": [
    "shp.save('20-40 keV/fits/chxe1.sav')"
   ]
  },
  {
   "cell_type": "code",
   "execution_count": 60,
   "metadata": {},
   "outputs": [
    {
     "name": "stdout",
     "output_type": "stream",
     "text": [
      "Saving 20-40 keV/chxe1.model\n",
      "(psfmodel.psf((gauss2d.chxe * tablemodel.emap)) + (const2d.bg * tablemodel.emap))\n",
      "   Param        Type          Value          Min          Max      Units\n",
      "   -----        ----          -----          ---          ---      -----\n",
      "   chxe.fwhm    thawed      53.5051            1          200           \n",
      "   chxe.xpos    thawed      497.962        482.4        512.4           \n",
      "   chxe.ypos    thawed      500.176        484.1        514.1           \n",
      "   chxe.ellip   thawed     0.470146            0        0.999           \n",
      "   chxe.theta   thawed     -1.00406     -6.28319      6.28319    radians\n",
      "   chxe.ampl    thawed  1.30944e-05 -3.40282e+38  3.40282e+38           \n",
      "   emap.ampl    frozen            1 -3.40282e+38  3.40282e+38           \n",
      "   bg.c0        frozen  3.08124e-06            0          100           \n"
     ]
    }
   ],
   "source": [
    "utils.save_components('20-40 keV/chxe1.model', ['chxe'])"
   ]
  },
  {
   "cell_type": "code",
   "execution_count": 18,
   "metadata": {
    "scrolled": true
   },
   "outputs": [
    {
     "name": "stdout",
     "output_type": "stream",
     "text": [
      "(psfmodel.psf((gauss2d.chxe * tablemodel.emap)) + (const2d.bg * tablemodel.emap))\n",
      "   Param        Type          Value          Min          Max      Units\n",
      "   -----        ----          -----          ---          ---      -----\n",
      "   chxe.fwhm    thawed      51.2412  1.17549e-38  3.40282e+38           \n",
      "   chxe.xpos    frozen      499.905        493.4        501.4           \n",
      "   chxe.ypos    frozen      499.013        495.1        503.1           \n",
      "   chxe.ellip   thawed     0.493759            0        0.999           \n",
      "   chxe.theta   frozen      -0.9948     -6.28319      6.28319    radians\n",
      "   chxe.ampl    thawed  8.54983e-07 -3.40282e+38  3.40282e+38           \n",
      "   emap.ampl    frozen            1 -3.40282e+38  3.40282e+38           \n",
      "   bg.c0        frozen  7.73891e-07            0          100           \n"
     ]
    }
   ],
   "source": [
    "shp.set_conf_opt('numcores', 3)\n",
    "shp.set_conf_opt('maxiters', 50)\n",
    "shp.set_conf_opt('fast', True)\n",
    "shp.set_conf_opt('remin', 10000.0)\n",
    "shp.set_conf_opt('soft_limits', True)\n",
    "shp.set_conf_opt('verbose', True)\n",
    "shp.freeze(chxe.xpos, chxe.ypos)\n",
    "print(shp.get_model())"
   ]
  },
  {
   "cell_type": "code",
   "execution_count": 19,
   "metadata": {
    "collapsed": true
   },
   "outputs": [
    {
     "name": "stdout",
     "output_type": "stream",
     "text": [
      "#\n",
      "# f[5.124115e+01 4.937592e-01 8.549825e-07] = 1.341605e+04\n",
      "# sigma = 1.644854e+00\n",
      "# target_stat = 1.341876e+04\n",
      "# tol = 1.000000e-02\n",
      "# smin = [ 1.175494e-38  0.000000e+00 -3.402823e+38]\n",
      "# smax = [3.402823e+38 9.990000e-01 3.402823e+38]\n",
      "# hmin = [ 1.175494e-38  0.000000e+00 -3.402823e+38]\n",
      "# hmax = [3.402823e+38 9.990000e-01 3.402823e+38]\n",
      "#\n",
      "# Note: for the intermediate steps, the notation:\n",
      "         par.name -/+: f( x ) = stat\n",
      "# ==> `stat` is the statistic when parameter `par.name` is frozen at `x`\n",
      "# while searching for the `lower/upper` confidence level, repectively.\n",
      "#\n",
      "chxe.ellip -: f( 3.448122e-01 ) = -1.824922e+00\n",
      "chxe.ellip -: f( 4.691814e-02 ) = 2.859585e+00\n",
      "chxe.ellip -: f( 2.287630e-01 ) = -2.611527e-01\n",
      "chxe.ellip -: f( 2.110043e-01 ) = 1.922031e-02\n",
      "chxe.ellip -: f( 2.160044e-01 ) = -6.054348e-02\n",
      "chxe.ellip -: f( 2.135043e-01 ) = -2.073930e-02\n",
      "chxe.ellip -: f( 2.135043e-01 ) = -2.073930e-02\n",
      "chxe.ellip -: f( 2.135043e-01 ) = -2.073930e-02\n",
      "chxe.ellip -: f( 2.122543e-01 ) = -7.787452e-04\n",
      "chxe.ellip lower bound:\t-0.281505\n",
      "chxe.ellip +: f( 6.427062e-01 ) = -1.835327e+00\n",
      "chxe.ellip +: f( 9.406003e-01 ) = -8.849206e-01\n",
      "chxe.ellip +: f( 9.990000e-01 ) = -1.291528e+00\n",
      "chxe.ellip upper bound:\t-----\n",
      "Dataset               = 1\n",
      "Confidence Method     = confidence\n",
      "Iterative Fit Method  = None\n",
      "Fitting Method        = neldermead\n",
      "Statistic             = cash\n",
      "confidence 1.64485-sigma (90%) bounds:\n",
      "   Param            Best-Fit  Lower Bound  Upper Bound\n",
      "   -----            --------  -----------  -----------\n",
      "   chxe.ellip       0.493759    -0.281505        -----\n"
     ]
    }
   ],
   "source": [
    "%time shp.conf(chxe.ellip)"
   ]
  }
 ],
 "metadata": {
  "kernelspec": {
   "display_name": "Python 2",
   "language": "python",
   "name": "python2"
  },
  "language_info": {
   "codemirror_mode": {
    "name": "ipython",
    "version": 2
   },
   "file_extension": ".py",
   "mimetype": "text/x-python",
   "name": "python",
   "nbconvert_exporter": "python",
   "pygments_lexer": "ipython2",
   "version": "2.7.12+"
  }
 },
 "nbformat": 4,
 "nbformat_minor": 2
}
