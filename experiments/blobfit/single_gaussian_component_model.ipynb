{
 "cells": [
  {
   "cell_type": "markdown",
   "metadata": {},
   "source": [
    "### Create, fit, and save a single Gaussian model component. \n",
    "This can be used, for example, to save different types of CHXE components generated via different methods (e.g. different donut sizes)."
   ]
  },
  {
   "cell_type": "code",
   "execution_count": 2,
   "metadata": {
    "collapsed": true,
    "scrolled": true
   },
   "outputs": [],
   "source": [
    "import sherpa.astro.ui as shp\n",
    "import utils"
   ]
  },
  {
   "cell_type": "code",
   "execution_count": 3,
   "metadata": {
    "collapsed": true
   },
   "outputs": [],
   "source": [
    "shp.set_stat('cash')\n",
    "shp.set_method('simplex')\n",
    "shp.set_method_opt('verbose', 1)"
   ]
  },
  {
   "cell_type": "code",
   "execution_count": 4,
   "metadata": {
    "collapsed": true
   },
   "outputs": [],
   "source": [
    "utils.setup('121718/mosaic121718_combined_20-40keV.img', \n",
    "            '121718/nuexpo_fin_combined.img')"
   ]
  },
  {
   "cell_type": "code",
   "execution_count": 4,
   "metadata": {
    "collapsed": true
   },
   "outputs": [],
   "source": [
    "shp.ignore2d('circle(500,500,1000)')\n",
    "shp.notice2d('circle(500,500,%f)' % (312.5/2.5))\n",
    "shp.image_data()"
   ]
  },
  {
   "cell_type": "code",
   "execution_count": 5,
   "metadata": {
    "scrolled": true
   },
   "outputs": [
    {
     "name": "stdout",
     "output_type": "stream",
     "text": [
      "Loading 121718/20-40 keV/bg 130-180.model\n",
      "const2d.bg\n",
      "   Param        Type          Value          Min          Max      Units\n",
      "   -----        ----          -----          ---          ---      -----\n",
      "   bg.c0        thawed  5.37316e-06            0          100           \n"
     ]
    }
   ],
   "source": [
    "utils.load_components('121718/20-40 keV/bg 130-180.model')"
   ]
  },
  {
   "cell_type": "code",
   "execution_count": 6,
   "metadata": {
    "collapsed": true
   },
   "outputs": [],
   "source": [
    "shp.ignore2d('circle(500,500,1000)')\n",
    "shp.notice2d('circle(500,500,%f)' % (180/2.5))\n",
    "shp.ignore2d('circle(500,500,%f)' % (130/2.5))\n",
    "shp.image_data()"
   ]
  },
  {
   "cell_type": "code",
   "execution_count": 6,
   "metadata": {
    "scrolled": false
   },
   "outputs": [
    {
     "name": "stdout",
     "output_type": "stream",
     "text": [
      "(psfmodel.psf((gauss2d.chxe * tablemodel.emap)) + (const2d.bg * tablemodel.emap))\n",
      "   Param        Type          Value          Min          Max      Units\n",
      "   -----        ----          -----          ---          ---      -----\n",
      "   chxe.fwhm    thawed           40            1          200           \n",
      "   chxe.xpos    thawed          500          470          530           \n",
      "   chxe.ypos    thawed          500          470          530           \n",
      "   chxe.ellip   thawed         0.52            0        0.999           \n",
      "   chxe.theta   thawed           -1     -6.28319      6.28319    radians\n",
      "   chxe.ampl    thawed        1e-05 -3.40282e+38  3.40282e+38           \n",
      "   emap.ampl    frozen            1 -3.40282e+38  3.40282e+38           \n",
      "   bg.c0        frozen  5.37316e-06            0          100           \n"
     ]
    }
   ],
   "source": [
    "# single gaussian model\n",
    "shp.set_full_model(psf(shp.gauss2d.chxe*emap) + bg*emap)\n",
    "\n",
    "shp.set_par(chxe.xpos, 500, 500-30, 500+30)\n",
    "shp.set_par(chxe.ypos, 500, 500-30, 500+30)\n",
    "shp.set_par(chxe.fwhm, 40, 1, 200)\n",
    "shp.set_par(chxe.ellip, .52)\n",
    "shp.set_par(chxe.theta, -1)\n",
    "shp.set_par(chxe.ampl, 1e-5)\n",
    "shp.thaw(chxe.ellip, chxe.theta, chxe.fwhm)\n",
    "\n",
    "shp.freeze(bg)\n",
    "\n",
    "print(shp.get_model())"
   ]
  },
  {
   "cell_type": "code",
   "execution_count": 7,
   "metadata": {
    "collapsed": true
   },
   "outputs": [],
   "source": [
    "shp.ignore2d('circle(500,500,1000)')\n",
    "shp.notice2d('circle(500,500,%f)' % (130/2.5))\n",
    "#shp.ignore2d('circle(500,500,%f)' % (60/2.5))\n",
    "shp.image_fit()"
   ]
  },
  {
   "cell_type": "code",
   "execution_count": 8,
   "metadata": {
    "scrolled": true
   },
   "outputs": [
    {
     "name": "stdout",
     "output_type": "stream",
     "text": [
      "Dataset               = 1\n",
      "Method                = neldermead\n",
      "Statistic             = cash\n",
      "Initial fit statistic = -31598.9\n",
      "Final fit statistic   = -32879.2 at function evaluation 1204\n",
      "Data points           = 8497\n",
      "Degrees of freedom    = 8491\n",
      "Change in statistic   = 1280.31\n",
      "   chxe.fwhm      42.2819     \n",
      "   chxe.xpos      498.601     \n",
      "   chxe.ypos      499.981     \n",
      "   chxe.ellip     0.499538    \n",
      "   chxe.theta     -0.800201   \n",
      "   chxe.ampl      1.84621e-05 \n",
      "CPU times: user 3min 45s, sys: 0 ns, total: 3min 45s\n",
      "Wall time: 3min 45s\n"
     ]
    }
   ],
   "source": [
    "shp.ignore2d('circle(500,500,1000)')\n",
    "shp.notice2d('circle(500,500,%f)' % (130/2.5))\n",
    "#shp.ignore2d('circle(500,500,%f)' % (60/2.5))\n",
    "%time shp.fit()"
   ]
  },
  {
   "cell_type": "code",
   "execution_count": 9,
   "metadata": {
    "scrolled": false
   },
   "outputs": [
    {
     "name": "stdout",
     "output_type": "stream",
     "text": [
      "(psfmodel.psf((gauss2d.chxe * tablemodel.emap)) + (const2d.bg * tablemodel.emap))\n",
      "   Param        Type          Value          Min          Max      Units\n",
      "   -----        ----          -----          ---          ---      -----\n",
      "   chxe.fwhm    thawed      42.2819            1          200           \n",
      "   chxe.xpos    thawed      498.601          470          530           \n",
      "   chxe.ypos    thawed      499.981          470          530           \n",
      "   chxe.ellip   thawed     0.499538            0        0.999           \n",
      "   chxe.theta   thawed    -0.800201     -6.28319      6.28319    radians\n",
      "   chxe.ampl    thawed  1.84621e-05 -3.40282e+38  3.40282e+38           \n",
      "   emap.ampl    frozen            1 -3.40282e+38  3.40282e+38           \n",
      "   bg.c0        frozen  5.37316e-06            0          100           \n"
     ]
    }
   ],
   "source": [
    "shp.ignore2d('circle(500,500,1000)')\n",
    "shp.notice2d('circle(500,500,%f)' % (130/2.5))\n",
    "#shp.ignore2d('circle(500,500,%f)' % (60/2.5))\n",
    "shp.image_fit()\n",
    "print(shp.get_model())"
   ]
  },
  {
   "cell_type": "code",
   "execution_count": 10,
   "metadata": {},
   "outputs": [
    {
     "name": "stdout",
     "output_type": "stream",
     "text": [
      "Saving 121718/20-40 keV/unconstrainedchxe.model\n",
      "(psfmodel.psf((gauss2d.chxe * tablemodel.emap)) + (const2d.bg * tablemodel.emap))\n",
      "   Param        Type          Value          Min          Max      Units\n",
      "   -----        ----          -----          ---          ---      -----\n",
      "   chxe.fwhm    thawed      42.2819            1          200           \n",
      "   chxe.xpos    thawed      498.601          470          530           \n",
      "   chxe.ypos    thawed      499.981          470          530           \n",
      "   chxe.ellip   thawed     0.499538            0        0.999           \n",
      "   chxe.theta   thawed    -0.800201     -6.28319      6.28319    radians\n",
      "   chxe.ampl    thawed  1.84621e-05 -3.40282e+38  3.40282e+38           \n",
      "   emap.ampl    frozen            1 -3.40282e+38  3.40282e+38           \n",
      "   bg.c0        frozen  5.37316e-06            0          100           \n"
     ]
    }
   ],
   "source": [
    "utils.save_components('121718/20-40 keV/unconstrainedchxe.model', ['chxe'])"
   ]
  },
  {
   "cell_type": "markdown",
   "metadata": {},
   "source": [
    "### Calculate confidence intervals on the Gaussian's fitted parameters."
   ]
  },
  {
   "cell_type": "code",
   "execution_count": 58,
   "metadata": {
    "scrolled": true
   },
   "outputs": [
    {
     "name": "stdout",
     "output_type": "stream",
     "text": [
      "(psfmodel.psf((gauss2d.chxe * tablemodel.emap)) + (const2d.bg * tablemodel.emap))\n",
      "   Param        Type          Value          Min          Max      Units\n",
      "   -----        ----          -----          ---          ---      -----\n",
      "   chxe.fwhm    thawed      27.9621           20          200           \n",
      "   chxe.xpos    thawed      501.252        482.4        512.4           \n",
      "   chxe.ypos    thawed      500.963        484.1        514.1           \n",
      "   chxe.ellip   thawed     0.939687            0        0.999           \n",
      "   chxe.theta   thawed    -0.401154     -6.28319      6.28319    radians\n",
      "   chxe.ampl    thawed  7.71075e-06 -3.40282e+38  3.40282e+38           \n",
      "   emap.ampl    frozen            1 -3.40282e+38  3.40282e+38           \n",
      "   bg.c0        frozen  6.80685e-07            0          100           \n"
     ]
    }
   ],
   "source": [
    "shp.set_conf_opt('numcores', 3)\n",
    "shp.set_conf_opt('maxiters', 50)\n",
    "shp.set_conf_opt('fast', True)\n",
    "shp.set_conf_opt('remin', 10000.0)\n",
    "shp.set_conf_opt('soft_limits', True)\n",
    "shp.set_conf_opt('verbose', True)\n",
    "\n",
    "print(shp.get_model())"
   ]
  },
  {
   "cell_type": "code",
   "execution_count": 59,
   "metadata": {},
   "outputs": [
    {
     "name": "stdout",
     "output_type": "stream",
     "text": [
      "#\n",
      "# f[ 2.796210e+01  5.012521e+02  5.009633e+02  9.396874e-01 -4.011542e-01\n",
      "  7.710746e-06] = 1.102089e+04\n",
      "# sigma = 1.000000e+00\n",
      "# target_stat = 1.102189e+04\n",
      "# tol = 1.000000e-02\n",
      "# smin = [ 2.000000e+01  4.824000e+02  4.841000e+02  0.000000e+00 -6.283185e+00\n",
      " -3.402823e+38]\n",
      "# smax = [2.000000e+02 5.124000e+02 5.141000e+02 9.990000e-01 6.283185e+00\n",
      " 3.402823e+38]\n",
      "# hmin = [ 2.000000e+01  4.824000e+02  4.841000e+02  0.000000e+00 -6.283185e+00\n",
      " -3.402823e+38]\n",
      "# hmax = [2.000000e+02 5.124000e+02 5.141000e+02 9.990000e-01 6.283185e+00\n",
      " 3.402823e+38]\n",
      "#\n",
      "# Note: for the intermediate steps, the notation:\n",
      "         par.name -/+: f( x ) = stat\n",
      "# ==> `stat` is the statistic when parameter `par.name` is frozen at `x`\n",
      "# while searching for the `lower/upper` confidence level, repectively.\n",
      "#\n",
      "      chxe.fwhm -: f( 2.621447e+01 ) = -9.806887e-01\n",
      "            chxe.theta -: f( -4.262263e-01 ) = -9.943424e-01\n",
      "chxe.xpos -: f( 4.976473e+02 ) = -2.326159e-01\n",
      "      chxe.fwhm -: f( 2.271921e+01 ) = -7.427159e-01\n",
      "            chxe.theta -: f( -4.763706e-01 ) = -9.016588e-01\n",
      "chxe.xpos -: f( 4.904377e+02 ) = 4.530916e+00\n",
      "      chxe.fwhm -: f( 2.000000e+01 ) = -3.664039e-01\n",
      "      chxe.fwhm lower bound:\t-----\n",
      "            chxe.theta -: f( -6.238820e-01 ) = -1.735520e-01\n",
      "            chxe.theta -: f( -6.467265e-01 ) = -5.857766e-02\n",
      "      chxe.fwhm +: f( 2.970974e+01 ) = -9.733091e-01\n",
      "chxe.xpos -: f( 4.972952e+02 ) = -8.512430e-01\n",
      "            chxe.theta -: f( -6.583203e-01 ) = -3.510950e-03\n",
      "            chxe.theta lower bound:\t-0.257166\n",
      "      chxe.fwhm +: f( 3.320500e+01 ) = -7.844352e-01\n",
      "            chxe.theta +: f( -3.760820e-01 ) = -9.900219e-01\n",
      "      chxe.fwhm +: f( 3.943390e+01 ) = -4.789624e-02\n",
      "chxe.xpos -: f( 4.938664e+02 ) = 1.786103e+00\n",
      "            chxe.theta +: f( -3.259378e-01 ) = -8.880266e-01\n",
      "      chxe.fwhm +: f( 3.973077e+01 ) = -3.654967e-03\n",
      "      chxe.fwhm upper bound:\t11.7687\n",
      "         chxe.ellip -: f( 8.809570e-01 ) = -9.422624e-01\n",
      "chxe.xpos -: f( 4.961885e+02 ) = 4.106842e-01\n",
      "            chxe.theta +: f( -1.833240e-01 ) = 2.404709e-01\n",
      "         chxe.ellip -: f( 7.634960e-01 ) = -5.054909e-01\n",
      "            chxe.theta +: f( -2.137135e-01 ) = -1.147224e-01\n",
      "chxe.xpos -: f( 4.965487e+02 ) = 2.360800e-01\n",
      "         chxe.ellip -: f( 6.881769e-01 ) = -7.617247e-02\n",
      "            chxe.theta +: f( -2.038981e-01 ) = -5.505257e-03\n",
      "            chxe.theta upper bound:\t0.197256\n",
      "         chxe.ellip -: f( 6.766233e-01 ) = -5.865291e-03\n",
      "         chxe.ellip lower bound:\t-0.263064\n",
      "               chxe.ampl -: f( 7.228824e-06 ) = -9.988076e-01\n",
      "chxe.xpos -: f( 4.969219e+02 ) = 6.610429e-02\n",
      "               chxe.ampl -: f( 6.264981e-06 ) = -9.940270e-01\n",
      "chxe.xpos -: f( 4.970414e+02 ) = 1.624436e-02\n",
      "               chxe.ampl -: f( -1.593331e-05 ) = 3.363779e+01\n",
      "chxe.xpos -: f( 4.970779e+02 ) = 1.867238e-04\n",
      "chxe.xpos lower bound:\t-4.17418\n",
      "         chxe.ellip +: f( 9.984179e-01 ) = -1.743078e+00\n",
      "chxe.xpos +: f( 5.048569e+02 ) = 3.071769e-03\n",
      "chxe.xpos upper bound:\t3.6048\n",
      "         chxe.ellip +: f( 9.990000e-01 ) = 2.043883e-01\n",
      "         chxe.ellip +: f( 9.987089e-01 ) = -2.113420e-01\n",
      "   chxe.ypos -: f( 4.991670e+02 ) = -5.846919e-01\n",
      "         chxe.ellip +: f( 9.987829e-01 ) = 2.240078e+00\n",
      "         chxe.ellip +: f( 9.987138e-01 ) = -2.314813e-01\n",
      "         chxe.ellip +: WARNING: The confidence level lies within (9.987089e-01, 9.990000e-01)\n",
      "         chxe.ellip upper bound:\t0.0591671\n",
      "   chxe.ypos -: f( 4.955743e+02 ) = 1.316637e+00\n",
      "   chxe.ypos -: f( 4.980622e+02 ) = 5.148879e-01\n",
      "               chxe.ampl -: f( -4.834163e-06 ) = 3.529839e+01\n",
      "               chxe.ampl -: f( 6.064112e-06 ) = -9.924981e-01\n",
      "               chxe.ampl -: f( 4.352846e-06 ) = -9.596923e-01\n",
      "   chxe.ypos -: f( 4.985795e+02 ) = -5.846992e-01\n",
      "               chxe.ampl -: f( 7.154089e-07 ) = 2.533039e+00\n",
      "               chxe.ampl -: f( 3.490195e-06 ) = -9.047867e-01\n",
      "   chxe.ypos -: f( 4.983044e+02 ) = 4.745826e-01\n",
      "               chxe.ampl -: f( 2.442295e-06 ) = -6.915913e-01\n",
      "               chxe.ampl -: f( 1.857443e-06 ) = -3.495366e-01\n",
      "               chxe.ampl -: f( 1.624854e-06 ) = -1.063129e-01\n",
      "               chxe.ampl -: f( 1.555653e-06 ) = -1.537902e-02\n",
      "   chxe.ypos -: f( 4.984420e+02 ) = -4.543000e-01\n",
      "               chxe.ampl -: f( 1.545153e-06 ) = -6.987884e-04\n",
      "               chxe.ampl lower bound:\t-6.16559e-06\n",
      "               chxe.ampl +: f( 8.192667e-06 ) = -1.001188e+00\n",
      "               chxe.ampl +: f( 9.156511e-06 ) = -1.002439e+00\n",
      "   chxe.ypos -: f( 4.983747e+02 ) = -5.846986e-01\n",
      "               chxe.ampl +: f( 4.472404e-05 ) = -1.400952e+00\n",
      "   chxe.ypos -: f( 4.983359e+02 ) = -5.846992e-01\n",
      "   chxe.ypos -: f( 4.983185e+02 ) = -5.845020e-01\n",
      "   chxe.ypos -: f( 4.983107e+02 ) = -5.846991e-01\n",
      "   chxe.ypos -: f( 4.983076e+02 ) = -5.846992e-01\n",
      "   chxe.ypos -: f( 4.983076e+02 ) = -5.846992e-01\n",
      "   chxe.ypos -: f( 4.983076e+02 ) = -5.846992e-01\n",
      "   chxe.ypos -: f( 4.983060e+02 ) = 4.730726e-01\n",
      "   chxe.ypos -: f( 4.983060e+02 ) = 4.730726e-01\n",
      "   chxe.ypos -: f( 4.983060e+02 ) = 4.730726e-01\n",
      "   chxe.ypos -: f( 4.983068e+02 ) = -5.846638e-01\n",
      "   chxe.ypos -: f( 4.983068e+02 ) = -5.846638e-01\n",
      "   chxe.ypos -: f( 4.983068e+02 ) = -5.846638e-01\n",
      "   chxe.ypos -: f( 4.983064e+02 ) = -5.846963e-01\n",
      "   chxe.ypos -: f( 4.983064e+02 ) = -5.846963e-01\n",
      "   chxe.ypos -: f( 4.983064e+02 ) = -5.846963e-01\n",
      "   chxe.ypos -: f( 4.983062e+02 ) = -5.846992e-01\n",
      "   chxe.ypos -: f( 4.983062e+02 ) = -5.846992e-01\n",
      "   chxe.ypos -: f( 4.983062e+02 ) = -5.846992e-01\n",
      "   chxe.ypos -: f( 4.983061e+02 ) = -5.771054e-01\n",
      "   chxe.ypos -: f( 4.983061e+02 ) = -5.771054e-01\n",
      "   chxe.ypos -: f( 4.983061e+02 ) = -5.771054e-01\n",
      "   chxe.ypos -: f( 4.983060e+02 ) = 4.730160e-01\n",
      "   chxe.ypos -: f( 4.983060e+02 ) = 4.730160e-01\n",
      "   chxe.ypos -: f( 4.983060e+02 ) = 4.730160e-01\n",
      "   chxe.ypos -: f( 4.983061e+02 ) = -5.769487e-01\n",
      "   chxe.ypos -: f( 4.983061e+02 ) = -5.769487e-01\n",
      "   chxe.ypos -: f( 4.983061e+02 ) = -5.769487e-01\n",
      "   chxe.ypos -: f( 4.983060e+02 ) = -5.846990e-01\n",
      "   chxe.ypos -: WARNING: The confidence level lies within (4.983061e+02, 4.983060e+02)\n",
      "   chxe.ypos lower bound:\t-2.65723\n",
      "   chxe.ypos +: f( 5.027596e+02 ) = -2.754216e-01\n",
      "   chxe.ypos +: f( 5.063522e+02 ) = 1.321621e+00\n",
      "   chxe.ypos +: f( 5.033792e+02 ) = 3.017011e-01\n",
      "   chxe.ypos +: f( 5.030553e+02 ) = -2.012992e-02\n",
      "   chxe.ypos +: f( 5.030771e+02 ) = 2.221596e-04\n",
      "   chxe.ypos upper bound:\t2.11385\n",
      "Dataset               = 1\n",
      "Confidence Method     = confidence\n",
      "Iterative Fit Method  = None\n",
      "Fitting Method        = neldermead\n",
      "Statistic             = cash\n",
      "confidence 1-sigma (68.2689%) bounds:\n",
      "   Param            Best-Fit  Lower Bound  Upper Bound\n",
      "   -----            --------  -----------  -----------\n",
      "   chxe.xpos         501.252     -4.17418       3.6048\n",
      "   chxe.ypos         500.963     -2.65723      2.11385\n",
      "   chxe.fwhm         27.9621        -----      11.7687\n",
      "   chxe.ellip       0.939687    -0.263064    0.0591671\n",
      "   chxe.theta      -0.401154        -----        -----\n",
      "   chxe.ampl     7.71075e-06        -----        -----\n",
      "CPU times: user 32.1 s, sys: 140 ms, total: 32.3 s\n",
      "Wall time: 3h 19min 15s\n"
     ]
    }
   ],
   "source": [
    "%time shp.conf(chxe.xpos, chxe.ypos, chxe.fwhm, chxe.ellip, chxe.theta, chxe.ampl)"
   ]
  },
  {
   "cell_type": "code",
   "execution_count": 11,
   "metadata": {
    "collapsed": true
   },
   "outputs": [],
   "source": [
    "shp.save('121718/20-40 keV/unconstrainedchxe.sav')"
   ]
  }
 ],
 "metadata": {
  "kernelspec": {
   "display_name": "Python 2",
   "language": "python",
   "name": "python2"
  },
  "language_info": {
   "codemirror_mode": {
    "name": "ipython",
    "version": 2
   },
   "file_extension": ".py",
   "mimetype": "text/x-python",
   "name": "python",
   "nbconvert_exporter": "python",
   "pygments_lexer": "ipython2",
   "version": "2.7.12+"
  }
 },
 "nbformat": 4,
 "nbformat_minor": 2
}
