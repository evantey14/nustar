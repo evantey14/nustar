{
 "cells": [
  {
   "cell_type": "markdown",
   "metadata": {},
   "source": [
    "This notebook is for loading files and viewing information about them."
   ]
  },
  {
   "cell_type": "code",
   "execution_count": 1,
   "metadata": {
    "collapsed": true
   },
   "outputs": [],
   "source": [
    "import sherpa.astro.ui as shp\n",
    "import utils"
   ]
  },
  {
   "cell_type": "code",
   "execution_count": 2,
   "metadata": {},
   "outputs": [],
   "source": [
    "# load data/components/saved states by commenting/uncommenting appropriate files\n",
    "utils.setup('numosaic_fin_combined_20-40keV.img')\n",
    "\n",
    "# utils.load_components('20-40 keV/bg 180-225.model')\n",
    "# shp.set_full_model(bg*emap) # set the component as the model for viewing\n",
    "\n",
    "shp.restore('20-40 keV/fits/chxepwnblobconf.sav')"
   ]
  },
  {
   "cell_type": "code",
   "execution_count": 6,
   "metadata": {
    "scrolled": true
   },
   "outputs": [],
   "source": [
    "# visualize data or fit in ds9\n",
    "shp.ignore2d('circle(500,500,1000)')\n",
    "shp.notice2d('circle(500,500,72)')\n",
    "#shp.ignore2d('circle(500,500,120)')\n",
    "#shp.image_data()\n",
    "shp.image_fit()\n",
    "#shp.image_model_component((bg)*emap)"
   ]
  },
  {
   "cell_type": "code",
   "execution_count": 4,
   "metadata": {
    "scrolled": true
   },
   "outputs": [
    {
     "name": "stdout",
     "output_type": "stream",
     "text": [
      "(psfmodel.psf((gauss2d.chxe * tablemodel.emap)) + (const2d.bg * tablemodel.emap))\n",
      "   Param        Type          Value          Min          Max      Units\n",
      "   -----        ----          -----          ---          ---      -----\n",
      "   chxe.fwhm    thawed      27.9621           20          200           \n",
      "   chxe.xpos    thawed      501.252        482.4        512.4           \n",
      "   chxe.ypos    thawed      500.963        484.1        514.1           \n",
      "   chxe.ellip   thawed     0.939687            0        0.999           \n",
      "   chxe.theta   thawed    -0.401154     -6.28319      6.28319    radians\n",
      "   chxe.ampl    thawed  7.71075e-06 -3.40282e+38  3.40282e+38           \n",
      "   emap.ampl    frozen            1 -3.40282e+38  3.40282e+38           \n",
      "   bg.c0        frozen  6.80685e-07            0          100           \n"
     ]
    }
   ],
   "source": [
    "print(shp.get_model())"
   ]
  },
  {
   "cell_type": "code",
   "execution_count": 10,
   "metadata": {},
   "outputs": [
    {
     "name": "stdout",
     "output_type": "stream",
     "text": [
      "datasets       = (1,)\n",
      "itermethodname = none\n",
      "methodname     = neldermead\n",
      "statname       = cash\n",
      "succeeded      = True\n",
      "parnames       = ('chxe.ampl', 'pwn.xpos', 'pwn.ypos', 'pwn.ampl', 'blob.fwhm', 'blob.xpos', 'blob.ypos', 'blob.ellip', 'blob.theta', 'blob.ampl')\n",
      "parvals        = (8.23414996756625e-07, 498.11137477811627, 501.86814988706743, 0.00011445884964345086, 7.025744759375787, 507.6150084949879, 500.3549876768436, 0.935118584471996, -1.0454011733819883, 6.331209149924086e-05)\n",
      "statval        = 12626.1436174\n",
      "istatval       = 12637.2355186\n",
      "dstatval       = 11.091901209088974\n",
      "numpoints      = 8497\n",
      "dof            = 8487\n",
      "qval           = None\n",
      "rstat          = None\n",
      "message        = Optimization terminated successfully\n",
      "nfev           = 2259\n"
     ]
    }
   ],
   "source": [
    "print(shp.get_fit_results())"
   ]
  },
  {
   "cell_type": "code",
   "execution_count": 8,
   "metadata": {
    "scrolled": true
   },
   "outputs": [
    {
     "name": "stdout",
     "output_type": "stream",
     "text": [
      "datasets    = (1,)\n",
      "methodname  = confidence\n",
      "iterfitname = none\n",
      "fitname     = neldermead\n",
      "statname    = cash\n",
      "sigma       = 1\n",
      "percent     = 68.26894921370858\n",
      "parnames    = ('blob.xpos', 'blob.ypos', 'blob.ellip', 'blob.fwhm', 'blob.theta', 'blob.ampl')\n",
      "parvals     = (502.8074783835057, 502.1860682680994, 0.7629914457964376, 18.037536639819894, -0.6917632997996106, 4.221435053995267e-05)\n",
      "parmins     = (-1.044080172287238, -1.1589063895526692, -0.1343540862884347, -1.7328692417374576, -0.1424017752071326, -1.992379799056663e-05)\n",
      "parmaxes    = (1.3483054808917814, 0.590688223494908, 0.12551878936708738, 4.761739785779664, 0.11721888255570634, 0.0005387297889552963)\n",
      "nfits       = 234\n",
      "('blob.xpos', -1.044080172287238, 502.8074783835057, 1.3483054808917814)\n",
      "('blob.ypos', -1.1589063895526692, 502.1860682680994, 0.590688223494908)\n",
      "('blob.ellip', -0.1343540862884347, 0.7629914457964376, 0.12551878936708738)\n",
      "('blob.fwhm', -1.7328692417374576, 18.037536639819894, 4.761739785779664)\n",
      "('blob.theta', -0.1424017752071326, -0.6917632997996106, 0.11721888255570634)\n",
      "('blob.ampl', -1.992379799056663e-05, 4.221435053995267e-05, 0.0005387297889552963)\n"
     ]
    }
   ],
   "source": [
    "conf = shp.get_conf_results()\n",
    "print(conf)\n",
    "\n",
    "for i in range(len(conf.parnames)):\n",
    "    print(conf.parnames[i], conf.parmins[i], conf.parvals[i], conf.parmaxes[i])"
   ]
  }
 ],
 "metadata": {
  "kernelspec": {
   "display_name": "Python 2",
   "language": "python",
   "name": "python2"
  },
  "language_info": {
   "codemirror_mode": {
    "name": "ipython",
    "version": 2
   },
   "file_extension": ".py",
   "mimetype": "text/x-python",
   "name": "python",
   "nbconvert_exporter": "python",
   "pygments_lexer": "ipython2",
   "version": "2.7.12+"
  }
 },
 "nbformat": 4,
 "nbformat_minor": 2
}
