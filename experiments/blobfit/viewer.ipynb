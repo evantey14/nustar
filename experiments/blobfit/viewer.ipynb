{
 "cells": [
  {
   "cell_type": "markdown",
   "metadata": {},
   "source": [
    "This notebook is for loading files and viewing information about them."
   ]
  },
  {
   "cell_type": "code",
   "execution_count": 2,
   "metadata": {
    "collapsed": true
   },
   "outputs": [],
   "source": [
    "import sherpa.astro.ui as shp\n",
    "import utils"
   ]
  },
  {
   "cell_type": "code",
   "execution_count": 8,
   "metadata": {},
   "outputs": [],
   "source": [
    "# load data/components/saved states by commenting/uncommenting appropriate files\n",
    "utils.setup('18/image_mosaic_2018_20-40keV.img', \n",
    "            '18/nuexpo_2018.img')\n",
    "\n",
    "# utils.load_components('20-40 keV/bg 180-225.model')\n",
    "# shp.set_full_model(bg*emap) # set the component as the model for viewing\n",
    "\n",
    "#shp.restore('121718/20-40 keV/unconstrainedchxe.sav')"
   ]
  },
  {
   "cell_type": "code",
   "execution_count": 9,
   "metadata": {
    "scrolled": true
   },
   "outputs": [],
   "source": [
    "# visualize data or fit in ds9\n",
    "shp.ignore2d('circle(500,500,1000)')\n",
    "shp.notice2d('circle(500,500,%f)' % (312.5/2.5))\n",
    "#shp.ignore2d('circle(500,500,120)')\n",
    "shp.image_data()\n",
    "#shp.image_fit()\n",
    "#shp.image_model_component((bg)*emap)"
   ]
  },
  {
   "cell_type": "code",
   "execution_count": 14,
   "metadata": {
    "scrolled": true
   },
   "outputs": [
    {
     "name": "stdout",
     "output_type": "stream",
     "text": [
      "(psfmodel.psf((((gauss2d.chxe * tablemodel.emap) + (gauss2d.pwn * tablemodel.emap)) + (gauss2d.blob * tablemodel.emap))) + (const2d.bg * tablemodel.emap))\n",
      "   Param        Type          Value          Min          Max      Units\n",
      "   -----        ----          -----          ---          ---      -----\n",
      "   chxe.fwhm    frozen      51.2412           20          200           \n",
      "   chxe.xpos    frozen      499.905      496.905      502.905           \n",
      "   chxe.ypos    frozen      499.013      496.013      502.013           \n",
      "   chxe.ellip   frozen     0.493759          0.2          0.8           \n",
      "   chxe.theta   frozen      -0.9948     -6.28319      6.28319    radians\n",
      "   chxe.ampl    thawed  8.23415e-07            0           10           \n",
      "   emap.ampl    frozen            1 -3.40282e+38  3.40282e+38           \n",
      "   pwn.fwhm     frozen            1            1            3           \n",
      "   pwn.xpos     thawed      498.111          498          502           \n",
      "   pwn.ypos     thawed      501.868          498          502           \n",
      "   pwn.ellip    frozen            0            0        0.999           \n",
      "   pwn.theta    frozen            0     -6.28319      6.28319    radians\n",
      "   pwn.ampl     thawed  0.000114459        1e-08            1           \n",
      "   blob.fwhm    thawed      7.02574            1           50           \n",
      "   blob.xpos    thawed      507.615          470          530           \n",
      "   blob.ypos    thawed      500.355          470          530           \n",
      "   blob.ellip   thawed     0.935119            0        0.999           \n",
      "   blob.theta   thawed      -1.0454     -6.28319      6.28319    radians\n",
      "   blob.ampl    thawed  6.33121e-05        1e-08            1           \n",
      "   bg.c0        frozen  7.55887e-07            0          100           \n"
     ]
    }
   ],
   "source": [
    "print(shp.get_model())"
   ]
  },
  {
   "cell_type": "code",
   "execution_count": 10,
   "metadata": {},
   "outputs": [
    {
     "name": "stdout",
     "output_type": "stream",
     "text": [
      "datasets       = (1,)\n",
      "itermethodname = none\n",
      "methodname     = neldermead\n",
      "statname       = cash\n",
      "succeeded      = True\n",
      "parnames       = ('chxe.ampl', 'pwn.xpos', 'pwn.ypos', 'pwn.ampl', 'blob.fwhm', 'blob.xpos', 'blob.ypos', 'blob.ellip', 'blob.theta', 'blob.ampl')\n",
      "parvals        = (8.23414996756625e-07, 498.11137477811627, 501.86814988706743, 0.00011445884964345086, 7.025744759375787, 507.6150084949879, 500.3549876768436, 0.935118584471996, -1.0454011733819883, 6.331209149924086e-05)\n",
      "statval        = 12626.1436174\n",
      "istatval       = 12637.2355186\n",
      "dstatval       = 11.091901209088974\n",
      "numpoints      = 8497\n",
      "dof            = 8487\n",
      "qval           = None\n",
      "rstat          = None\n",
      "message        = Optimization terminated successfully\n",
      "nfev           = 2259\n"
     ]
    }
   ],
   "source": [
    "print(shp.get_fit_results())"
   ]
  },
  {
   "cell_type": "code",
   "execution_count": 15,
   "metadata": {
    "scrolled": true
   },
   "outputs": [
    {
     "name": "stdout",
     "output_type": "stream",
     "text": [
      "datasets    = (1,)\n",
      "methodname  = confidence\n",
      "iterfitname = none\n",
      "fitname     = neldermead\n",
      "statname    = cash\n",
      "sigma       = 1\n",
      "percent     = 68.26894921370858\n",
      "parnames    = ('blob.xpos', 'blob.ypos', 'blob.ellip', 'blob.fwhm', 'blob.theta', 'blob.ampl')\n",
      "parvals     = (502.8074783835057, 502.1860682680994, 0.7629914457964376, 18.037536639819894, -0.6917632997996106, 4.221435053995267e-05)\n",
      "parmins     = (-1.044080172287238, -1.1589063895526692, -0.1343540862884347, -1.7328692417374576, -0.1424017752071326, -1.992379799056663e-05)\n",
      "parmaxes    = (1.3483054808917814, 0.590688223494908, 0.12551878936708738, 4.761739785779664, 0.11721888255570634, 0.0005387297889552963)\n",
      "nfits       = 234\n",
      "('blob.xpos', 501.7633982, 502.8074784, 504.1557839)\n",
      "('blob.ypos', 501.0271619, 502.1860683, 502.7767565)\n",
      "('blob.ellip', 0.6286374, 0.7629914, 0.8885102)\n",
      "('blob.fwhm', 16.3046674, 18.0375366, 22.7992764)\n",
      "('blob.theta', -0.8341651, -0.6917633, -0.5745444)\n",
      "('blob.ampl', 2.23e-05, 4.22e-05, 0.0005809)\n"
     ]
    }
   ],
   "source": [
    "conf = shp.get_conf_results()\n",
    "print(conf)\n",
    "\n",
    "for i in range(len(conf.parnames)):\n",
    "    try:\n",
    "        print(conf.parnames[i], \n",
    "              round(conf.parmins[i]+conf.parvals[i], 7), \n",
    "              round(conf.parvals[i], 7), \n",
    "              round(conf.parmaxes[i]+conf.parvals[i], 7))\n",
    "    except:\n",
    "        print(conf.parnames[i], \n",
    "          conf.parmins[i], \n",
    "          conf.parvals[i], \n",
    "          conf.parmaxes[i])"
   ]
  }
 ],
 "metadata": {
  "kernelspec": {
   "display_name": "Python 2",
   "language": "python",
   "name": "python2"
  },
  "language_info": {
   "codemirror_mode": {
    "name": "ipython",
    "version": 2
   },
   "file_extension": ".py",
   "mimetype": "text/x-python",
   "name": "python",
   "nbconvert_exporter": "python",
   "pygments_lexer": "ipython2",
   "version": "2.7.12+"
  }
 },
 "nbformat": 4,
 "nbformat_minor": 2
}
