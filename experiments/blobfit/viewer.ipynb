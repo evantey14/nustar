{
 "cells": [
  {
   "cell_type": "code",
   "execution_count": 2,
   "metadata": {},
   "outputs": [],
   "source": [
    "import sherpa.astro.ui as shp\n",
    "import utils"
   ]
  },
  {
   "cell_type": "code",
   "execution_count": 2,
   "metadata": {
    "collapsed": true
   },
   "outputs": [],
   "source": [
    "utils.setup('numosaic_fin_combined_20-40keV.img')"
   ]
  },
  {
   "cell_type": "code",
   "execution_count": 5,
   "metadata": {
    "scrolled": true
   },
   "outputs": [
    {
     "name": "stdout",
     "output_type": "stream",
     "text": [
      "Loading 20-40 keV/bg 180-225.model\n",
      "const2d.bg\n",
      "   Param        Type          Value          Min          Max      Units\n",
      "   -----        ----          -----          ---          ---      -----\n",
      "   bg.c0        thawed  3.08124e-06            0          100           \n"
     ]
    }
   ],
   "source": [
    "utils.load_components('20-40 keV/bg 180-225.model')\n",
    "shp.set_full_model(bg*emap)"
   ]
  },
  {
   "cell_type": "code",
   "execution_count": 4,
   "metadata": {},
   "outputs": [],
   "source": [
    "shp.restore('40-50 keV/fits/combinedfit6.sav')"
   ]
  },
  {
   "cell_type": "code",
   "execution_count": 4,
   "metadata": {
    "scrolled": true
   },
   "outputs": [],
   "source": [
    "shp.ignore2d('circle(500,500,1000)')\n",
    "shp.notice2d('circle(500,500,160)')\n",
    "#shp.ignore2d('circle(500,500,120)')\n",
    "#shp.image_data()\n",
    "shp.image_fit()\n",
    "#shp.image_model_component((bg)*emap)"
   ]
  },
  {
   "cell_type": "code",
   "execution_count": 10,
   "metadata": {
    "collapsed": true
   },
   "outputs": [
    {
     "name": "stdout",
     "output_type": "stream",
     "text": [
      "datasets       = (1,)\n",
      "itermethodname = none\n",
      "methodname     = neldermead\n",
      "statname       = cash\n",
      "succeeded      = True\n",
      "parnames       = ('chxe.ampl', 'pwn.xpos', 'pwn.ypos', 'pwn.ampl', 'blob.fwhm', 'blob.xpos', 'blob.ypos', 'blob.ellip', 'blob.theta', 'blob.ampl')\n",
      "parvals        = (8.23414996756625e-07, 498.11137477811627, 501.86814988706743, 0.00011445884964345086, 7.025744759375787, 507.6150084949879, 500.3549876768436, 0.935118584471996, -1.0454011733819883, 6.331209149924086e-05)\n",
      "statval        = 12626.1436174\n",
      "istatval       = 12637.2355186\n",
      "dstatval       = 11.091901209088974\n",
      "numpoints      = 8497\n",
      "dof            = 8487\n",
      "qval           = None\n",
      "rstat          = None\n",
      "message        = Optimization terminated successfully\n",
      "nfev           = 2259\n"
     ]
    }
   ],
   "source": [
    "print(shp.get_fit_results())"
   ]
  },
  {
   "cell_type": "code",
   "execution_count": 5,
   "metadata": {
    "scrolled": true
   },
   "outputs": [
    {
     "name": "stdout",
     "output_type": "stream",
     "text": [
      "(psfmodel.psf((((gauss2d.chxe * tablemodel.emap) + (gauss2d.pwn * tablemodel.emap)) + (gauss2d.blob * tablemodel.emap))) + (const2d.bg * tablemodel.emap))\n",
      "   Param        Type          Value          Min          Max      Units\n",
      "   -----        ----          -----          ---          ---      -----\n",
      "   chxe.fwhm    frozen      51.2412           20          200           \n",
      "   chxe.xpos    frozen      499.905      496.905      502.905           \n",
      "   chxe.ypos    frozen      499.013      496.013      502.013           \n",
      "   chxe.ellip   frozen     0.493759          0.2          0.8           \n",
      "   chxe.theta   frozen      -0.9948     -6.28319      6.28319    radians\n",
      "   chxe.ampl    thawed  8.23415e-07            0           10           \n",
      "   emap.ampl    frozen            1 -3.40282e+38  3.40282e+38           \n",
      "   pwn.fwhm     frozen            1            1            3           \n",
      "   pwn.xpos     thawed      498.111          498          502           \n",
      "   pwn.ypos     thawed      501.868          498          502           \n",
      "   pwn.ellip    frozen            0            0        0.999           \n",
      "   pwn.theta    frozen            0     -6.28319      6.28319    radians\n",
      "   pwn.ampl     thawed  0.000114459        1e-08            1           \n",
      "   blob.fwhm    thawed      7.02574            1           50           \n",
      "   blob.xpos    thawed      507.615          470          530           \n",
      "   blob.ypos    thawed      500.355          470          530           \n",
      "   blob.ellip   thawed     0.935119            0        0.999           \n",
      "   blob.theta   thawed      -1.0454     -6.28319      6.28319    radians\n",
      "   blob.ampl    thawed  6.33121e-05        1e-08            1           \n",
      "   bg.c0        frozen  7.55887e-07            0          100           \n"
     ]
    }
   ],
   "source": [
    "print(shp.get_model())"
   ]
  },
  {
   "cell_type": "code",
   "execution_count": 16,
   "metadata": {
    "scrolled": true
   },
   "outputs": [
    {
     "name": "stdout",
     "output_type": "stream",
     "text": [
      "datasets    = (1,)\n",
      "methodname  = confidence\n",
      "iterfitname = none\n",
      "fitname     = neldermead\n",
      "statname    = cash\n",
      "sigma       = 1\n",
      "percent     = 68.26894921370858\n",
      "parnames    = ('pwn.ampl',)\n",
      "parvals     = (0.00011445884964345086,)\n",
      "parmins     = (None,)\n",
      "parmaxes    = (0.0001874865679497377,)\n",
      "nfits       = 7\n"
     ]
    }
   ],
   "source": [
    "print(shp.get_conf_results())"
   ]
  }
 ],
 "metadata": {
  "kernelspec": {
   "display_name": "Python 2",
   "language": "python",
   "name": "python2"
  },
  "language_info": {
   "codemirror_mode": {
    "name": "ipython",
    "version": 2
   },
   "file_extension": ".py",
   "mimetype": "text/x-python",
   "name": "python",
   "nbconvert_exporter": "python",
   "pygments_lexer": "ipython2",
   "version": "2.7.12+"
  }
 },
 "nbformat": 4,
 "nbformat_minor": 2
}
