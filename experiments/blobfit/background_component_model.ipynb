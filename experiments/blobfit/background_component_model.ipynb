{
 "cells": [
  {
   "cell_type": "markdown",
   "metadata": {},
   "source": [
    "### Create and save a component to represent the 2D background for a mosaic."
   ]
  },
  {
   "cell_type": "code",
   "execution_count": 1,
   "metadata": {
    "collapsed": true,
    "scrolled": false
   },
   "outputs": [],
   "source": [
    "import sherpa.astro.ui as shp\n",
    "import utils"
   ]
  },
  {
   "cell_type": "code",
   "execution_count": 2,
   "metadata": {
    "collapsed": true
   },
   "outputs": [],
   "source": [
    "shp.set_stat('cash')\n",
    "shp.set_method('simplex')\n",
    "shp.set_method_opt('verbose', 1)"
   ]
  },
  {
   "cell_type": "code",
   "execution_count": 3,
   "metadata": {
    "collapsed": true
   },
   "outputs": [],
   "source": [
    "utils.setup('121718/mosaic121718_combined_20-40keV.img', \n",
    "            '121718/nuexpo_fin_combined.img')"
   ]
  },
  {
   "cell_type": "code",
   "execution_count": 4,
   "metadata": {
    "scrolled": true
   },
   "outputs": [
    {
     "name": "stdout",
     "output_type": "stream",
     "text": [
      "(const2d.bg * tablemodel.emap)\n",
      "   Param        Type          Value          Min          Max      Units\n",
      "   -----        ----          -----          ---          ---      -----\n",
      "   bg.c0        thawed        1e-05            0          100           \n",
      "   emap.ampl    frozen            1 -3.40282e+38  3.40282e+38           \n"
     ]
    }
   ],
   "source": [
    "# fit constant background model \n",
    "shp.set_full_model(shp.const2d.bg*emap)\n",
    "shp.set_par(bg.c0, 1e-5, 0, 100)\n",
    "print(shp.get_model())"
   ]
  },
  {
   "cell_type": "code",
   "execution_count": 19,
   "metadata": {
    "collapsed": true
   },
   "outputs": [],
   "source": [
    "shp.ignore2d('circle(500,500,1000)')                              \n",
    "shp.notice2d('circle(500,500,%f)' % (300/2.5))\n",
    "#shp.ignore2d('circle(500,500,%f)' % (130/2.5))\n",
    "shp.image_data()"
   ]
  },
  {
   "cell_type": "code",
   "execution_count": 12,
   "metadata": {
    "scrolled": true
   },
   "outputs": [
    {
     "name": "stdout",
     "output_type": "stream",
     "text": [
      "Dataset               = 1\n",
      "Method                = neldermead\n",
      "Statistic             = cash\n",
      "Initial fit statistic = 7484.31\n",
      "Final fit statistic   = -3410.09 at function evaluation 165\n",
      "Data points           = 7744\n",
      "Degrees of freedom    = 7743\n",
      "Change in statistic   = 10894.4\n",
      "   bg.c0          5.37316e-06 \n",
      "CPU times: user 296 ms, sys: 0 ns, total: 296 ms\n",
      "Wall time: 297 ms\n"
     ]
    }
   ],
   "source": [
    "shp.ignore2d('circle(500,500,1000)')                              \n",
    "shp.notice2d('circle(500,500,%f)' % (180/2.5))\n",
    "shp.ignore2d('circle(500,500,%f)' % (130/2.5))\n",
    "%time shp.fit()"
   ]
  },
  {
   "cell_type": "code",
   "execution_count": 20,
   "metadata": {
    "collapsed": true
   },
   "outputs": [],
   "source": [
    "shp.notice2d('circle(500,500,%f)' % (180/2.5))\n",
    "shp.image_fit()"
   ]
  },
  {
   "cell_type": "code",
   "execution_count": 14,
   "metadata": {
    "scrolled": false
   },
   "outputs": [
    {
     "name": "stdout",
     "output_type": "stream",
     "text": [
      "Saving 121718/20-40 keV/bg 130-180.model\n",
      "(const2d.bg * tablemodel.emap)\n",
      "   Param        Type          Value          Min          Max      Units\n",
      "   -----        ----          -----          ---          ---      -----\n",
      "   bg.c0        thawed  5.37316e-06            0          100           \n",
      "   emap.ampl    frozen            1 -3.40282e+38  3.40282e+38           \n"
     ]
    }
   ],
   "source": [
    "utils.save_components('121718/20-40 keV/bg 130-180.model')"
   ]
  }
 ],
 "metadata": {
  "kernelspec": {
   "display_name": "Python 2",
   "language": "python",
   "name": "python2"
  },
  "language_info": {
   "codemirror_mode": {
    "name": "ipython",
    "version": 2
   },
   "file_extension": ".py",
   "mimetype": "text/x-python",
   "name": "python",
   "nbconvert_exporter": "python",
   "pygments_lexer": "ipython2",
   "version": "2.7.12+"
  }
 },
 "nbformat": 4,
 "nbformat_minor": 2
}
