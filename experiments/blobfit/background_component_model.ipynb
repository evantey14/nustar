{
 "cells": [
  {
   "cell_type": "markdown",
   "metadata": {},
   "source": [
    "### Create and save a component to represent the 2D background for a mosaic."
   ]
  },
  {
   "cell_type": "code",
   "execution_count": 1,
   "metadata": {
    "collapsed": true,
    "scrolled": false
   },
   "outputs": [],
   "source": [
    "import sherpa.astro.ui as shp\n",
    "import utils"
   ]
  },
  {
   "cell_type": "code",
   "execution_count": 2,
   "metadata": {
    "collapsed": true
   },
   "outputs": [],
   "source": [
    "shp.set_stat('cash')\n",
    "shp.set_method('simplex')\n",
    "shp.set_method_opt('verbose', 1)"
   ]
  },
  {
   "cell_type": "code",
   "execution_count": 3,
   "metadata": {
    "collapsed": true
   },
   "outputs": [],
   "source": [
    "utils.setup('numosaic_fin_combined_50-60keV.img')"
   ]
  },
  {
   "cell_type": "code",
   "execution_count": 4,
   "metadata": {},
   "outputs": [
    {
     "name": "stdout",
     "output_type": "stream",
     "text": [
      "(const2d.bg * tablemodel.emap)\n",
      "   Param        Type          Value          Min          Max      Units\n",
      "   -----        ----          -----          ---          ---      -----\n",
      "   bg.c0        thawed        1e-05            0          100           \n",
      "   emap.ampl    frozen            1 -3.40282e+38  3.40282e+38           \n"
     ]
    }
   ],
   "source": [
    "# fit constant background model \n",
    "shp.set_full_model(shp.const2d.bg*emap)\n",
    "shp.set_par(bg.c0, 1e-5, 0, 100)\n",
    "print(shp.get_model())"
   ]
  },
  {
   "cell_type": "code",
   "execution_count": 6,
   "metadata": {
    "scrolled": true
   },
   "outputs": [],
   "source": [
    "shp.ignore2d('circle(500,500,1000)')                              \n",
    "shp.notice2d('circle(500,500,%f)' % (180/2.5))\n",
    "shp.ignore2d('circle(500,500,%f)' % (130/2.5))\n",
    "%time shp.fit()"
   ]
  },
  {
   "cell_type": "code",
   "execution_count": 14,
   "metadata": {
    "collapsed": true
   },
   "outputs": [],
   "source": [
    "shp.notice2d('circle(500,500,%f)' % (130/2.5))\n",
    "shp.image_fit()"
   ]
  },
  {
   "cell_type": "code",
   "execution_count": 15,
   "metadata": {
    "scrolled": false
   },
   "outputs": [
    {
     "name": "stdout",
     "output_type": "stream",
     "text": [
      "Saving 50-60 keV/bg 130-180.model\n",
      "(const2d.bg * tablemodel.emap)\n",
      "   Param        Type          Value          Min          Max      Units\n",
      "   -----        ----          -----          ---          ---      -----\n",
      "   bg.c0        thawed  6.80685e-07            0          100           \n",
      "   emap.ampl    frozen            1 -3.40282e+38  3.40282e+38           \n"
     ]
    }
   ],
   "source": [
    "utils.save_components('50-60 keV/bg 130-180.model')"
   ]
  }
 ],
 "metadata": {
  "kernelspec": {
   "display_name": "Python 2",
   "language": "python",
   "name": "python2"
  },
  "language_info": {
   "codemirror_mode": {
    "name": "ipython",
    "version": 2
   },
   "file_extension": ".py",
   "mimetype": "text/x-python",
   "name": "python",
   "nbconvert_exporter": "python",
   "pygments_lexer": "ipython2",
   "version": "2.7.12+"
  }
 },
 "nbformat": 4,
 "nbformat_minor": 2
}
